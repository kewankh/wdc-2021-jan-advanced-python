{
 "cells": [
  {
   "cell_type": "code",
   "execution_count": 1,
   "metadata": {},
   "outputs": [
    {
     "name": "stdout",
     "output_type": "stream",
     "text": [
      "Hello, world!\n"
     ]
    }
   ],
   "source": [
    "print('Hello, world!')"
   ]
  },
  {
   "cell_type": "markdown",
   "metadata": {},
   "source": [
    "# Agenda\n",
    "\n",
    "0. About assignment, `==` and `is`\n",
    "1. Basic data structures — how they work\n",
    "2. `Decimal`\n",
    "3. `namedtuple`\n",
    "4. Variations on `dict`"
   ]
  },
  {
   "cell_type": "code",
   "execution_count": 2,
   "metadata": {},
   "outputs": [
    {
     "data": {
      "text/plain": [
       "'3.9.1 (default, Jan 17 2021, 19:46:39) \\n[Clang 12.0.0 (clang-1200.0.32.28)]'"
      ]
     },
     "execution_count": 2,
     "metadata": {},
     "output_type": "execute_result"
    }
   ],
   "source": [
    "import sys\n",
    "sys.version"
   ]
  },
  {
   "cell_type": "code",
   "execution_count": 3,
   "metadata": {},
   "outputs": [
    {
     "data": {
      "text/plain": [
       "True"
      ]
     },
     "execution_count": 3,
     "metadata": {},
     "output_type": "execute_result"
    }
   ],
   "source": [
    "x = 100\n",
    "y = 100\n",
    "\n",
    "x == y"
   ]
  },
  {
   "cell_type": "code",
   "execution_count": 4,
   "metadata": {},
   "outputs": [
    {
     "data": {
      "text/plain": [
       "True"
      ]
     },
     "execution_count": 4,
     "metadata": {},
     "output_type": "execute_result"
    }
   ],
   "source": [
    "x is y"
   ]
  },
  {
   "cell_type": "code",
   "execution_count": 5,
   "metadata": {},
   "outputs": [
    {
     "data": {
      "text/plain": [
       "True"
      ]
     },
     "execution_count": 5,
     "metadata": {},
     "output_type": "execute_result"
    }
   ],
   "source": [
    "x = 1000\n",
    "y = 1000\n",
    "\n",
    "x == y"
   ]
  },
  {
   "cell_type": "code",
   "execution_count": 6,
   "metadata": {},
   "outputs": [
    {
     "data": {
      "text/plain": [
       "False"
      ]
     },
     "execution_count": 6,
     "metadata": {},
     "output_type": "execute_result"
    }
   ],
   "source": [
    "x is y"
   ]
  },
  {
   "cell_type": "code",
   "execution_count": 7,
   "metadata": {},
   "outputs": [
    {
     "data": {
      "text/plain": [
       "True"
      ]
     },
     "execution_count": 7,
     "metadata": {},
     "output_type": "execute_result"
    }
   ],
   "source": [
    "x == y   # x.__eq__(y)"
   ]
  },
  {
   "cell_type": "code",
   "execution_count": 8,
   "metadata": {},
   "outputs": [
    {
     "data": {
      "text/plain": [
       "False"
      ]
     },
     "execution_count": 8,
     "metadata": {},
     "output_type": "execute_result"
    }
   ],
   "source": [
    "x is y"
   ]
  },
  {
   "cell_type": "code",
   "execution_count": 9,
   "metadata": {},
   "outputs": [
    {
     "data": {
      "text/plain": [
       "4415129328"
      ]
     },
     "execution_count": 9,
     "metadata": {},
     "output_type": "execute_result"
    }
   ],
   "source": [
    "id(x)"
   ]
  },
  {
   "cell_type": "code",
   "execution_count": 10,
   "metadata": {},
   "outputs": [
    {
     "data": {
      "text/plain": [
       "4415128656"
      ]
     },
     "execution_count": 10,
     "metadata": {},
     "output_type": "execute_result"
    }
   ],
   "source": [
    "id(y)"
   ]
  },
  {
   "cell_type": "code",
   "execution_count": 11,
   "metadata": {},
   "outputs": [
    {
     "data": {
      "text/plain": [
       "False"
      ]
     },
     "execution_count": 11,
     "metadata": {},
     "output_type": "execute_result"
    }
   ],
   "source": [
    "x is y   # id(x) == id(y)"
   ]
  },
  {
   "cell_type": "code",
   "execution_count": 12,
   "metadata": {},
   "outputs": [
    {
     "data": {
      "text/plain": [
       "True"
      ]
     },
     "execution_count": 12,
     "metadata": {},
     "output_type": "execute_result"
    }
   ],
   "source": [
    "x = 100\n",
    "y = 100\n",
    "\n",
    "x is y"
   ]
  },
  {
   "cell_type": "code",
   "execution_count": 13,
   "metadata": {},
   "outputs": [
    {
     "data": {
      "text/plain": [
       "False"
      ]
     },
     "execution_count": 13,
     "metadata": {},
     "output_type": "execute_result"
    }
   ],
   "source": [
    "x = 1000\n",
    "y = 1000\n",
    "\n",
    "x is y"
   ]
  },
  {
   "cell_type": "code",
   "execution_count": 14,
   "metadata": {},
   "outputs": [
    {
     "name": "stdout",
     "output_type": "stream",
     "text": [
      "Yes, it is None!\n"
     ]
    }
   ],
   "source": [
    "x = None\n",
    "\n",
    "if x == None:  # non-Pythonic\n",
    "    print('Yes, it is None!')"
   ]
  },
  {
   "cell_type": "code",
   "execution_count": 15,
   "metadata": {},
   "outputs": [
    {
     "name": "stdout",
     "output_type": "stream",
     "text": [
      "Yes, it is None!\n"
     ]
    }
   ],
   "source": [
    "if x is None:   # VERY Pythonic\n",
    "    print('Yes, it is None!')"
   ]
  },
  {
   "cell_type": "code",
   "execution_count": 16,
   "metadata": {},
   "outputs": [
    {
     "data": {
      "text/plain": [
       "100"
      ]
     },
     "execution_count": 16,
     "metadata": {},
     "output_type": "execute_result"
    }
   ],
   "source": [
    "x = 100\n",
    "y = x\n",
    "\n",
    "x = 200\n",
    "y"
   ]
  },
  {
   "cell_type": "code",
   "execution_count": 17,
   "metadata": {},
   "outputs": [
    {
     "data": {
      "text/plain": [
       "105"
      ]
     },
     "execution_count": 17,
     "metadata": {},
     "output_type": "execute_result"
    }
   ],
   "source": [
    "x = 100\n",
    "x += 5\n",
    "\n",
    "x"
   ]
  },
  {
   "cell_type": "code",
   "execution_count": 18,
   "metadata": {},
   "outputs": [
    {
     "ename": "TypeError",
     "evalue": "'str' object does not support item assignment",
     "output_type": "error",
     "traceback": [
      "\u001b[0;31m---------------------------------------------------------------------------\u001b[0m",
      "\u001b[0;31mTypeError\u001b[0m                                 Traceback (most recent call last)",
      "\u001b[0;32m<ipython-input-18-d9114ae4b982>\u001b[0m in \u001b[0;36m<module>\u001b[0;34m\u001b[0m\n\u001b[1;32m      1\u001b[0m \u001b[0mx\u001b[0m \u001b[0;34m=\u001b[0m \u001b[0;34m'abcde'\u001b[0m\u001b[0;34m\u001b[0m\u001b[0;34m\u001b[0m\u001b[0m\n\u001b[0;32m----> 2\u001b[0;31m \u001b[0mx\u001b[0m\u001b[0;34m[\u001b[0m\u001b[0;36m0\u001b[0m\u001b[0;34m]\u001b[0m \u001b[0;34m=\u001b[0m \u001b[0;34m'!'\u001b[0m\u001b[0;34m\u001b[0m\u001b[0;34m\u001b[0m\u001b[0m\n\u001b[0m",
      "\u001b[0;31mTypeError\u001b[0m: 'str' object does not support item assignment"
     ]
    }
   ],
   "source": [
    "x = 'abcde'\n",
    "x[0] = '!'  # str is immutable"
   ]
  },
  {
   "cell_type": "code",
   "execution_count": 19,
   "metadata": {},
   "outputs": [],
   "source": [
    "x = 'fghij'"
   ]
  },
  {
   "cell_type": "code",
   "execution_count": 20,
   "metadata": {},
   "outputs": [
    {
     "data": {
      "text/plain": [
       "24"
      ]
     },
     "execution_count": 20,
     "metadata": {},
     "output_type": "execute_result"
    }
   ],
   "source": [
    "import sys\n",
    "x = 0\n",
    "sys.getsizeof(x)"
   ]
  },
  {
   "cell_type": "code",
   "execution_count": 21,
   "metadata": {},
   "outputs": [
    {
     "data": {
      "text/plain": [
       "32"
      ]
     },
     "execution_count": 21,
     "metadata": {},
     "output_type": "execute_result"
    }
   ],
   "source": [
    "x = 1234567890\n",
    "sys.getsizeof(x)"
   ]
  },
  {
   "cell_type": "code",
   "execution_count": 22,
   "metadata": {},
   "outputs": [
    {
     "data": {
      "text/plain": [
       "68"
      ]
     },
     "execution_count": 22,
     "metadata": {},
     "output_type": "execute_result"
    }
   ],
   "source": [
    "x = x ** 10\n",
    "sys.getsizeof(x)"
   ]
  },
  {
   "cell_type": "code",
   "execution_count": 23,
   "metadata": {},
   "outputs": [
    {
     "data": {
      "text/plain": [
       "4052"
      ]
     },
     "execution_count": 23,
     "metadata": {},
     "output_type": "execute_result"
    }
   ],
   "source": [
    "x = x ** 100\n",
    "sys.getsizeof(x)"
   ]
  },
  {
   "cell_type": "code",
   "execution_count": 1,
   "metadata": {},
   "outputs": [
    {
     "data": {
      "text/plain": [
       "int"
      ]
     },
     "execution_count": 1,
     "metadata": {},
     "output_type": "execute_result"
    }
   ],
   "source": [
    "a = 1\n",
    "type(a)"
   ]
  },
  {
   "cell_type": "code",
   "execution_count": 2,
   "metadata": {},
   "outputs": [
    {
     "data": {
      "text/plain": [
       "float"
      ]
     },
     "execution_count": 2,
     "metadata": {},
     "output_type": "execute_result"
    }
   ],
   "source": [
    "a = 1.0\n",
    "type(a)"
   ]
  },
  {
   "cell_type": "code",
   "execution_count": 3,
   "metadata": {},
   "outputs": [
    {
     "data": {
      "text/plain": [
       "0.30000000000000004"
      ]
     },
     "execution_count": 3,
     "metadata": {},
     "output_type": "execute_result"
    }
   ],
   "source": [
    "0.1 + 0.2"
   ]
  },
  {
   "cell_type": "code",
   "execution_count": 4,
   "metadata": {},
   "outputs": [
    {
     "data": {
      "text/plain": [
       "False"
      ]
     },
     "execution_count": 4,
     "metadata": {},
     "output_type": "execute_result"
    }
   ],
   "source": [
    "0.1 + 0.2 == 0.3"
   ]
  },
  {
   "cell_type": "code",
   "execution_count": 5,
   "metadata": {},
   "outputs": [
    {
     "data": {
      "text/plain": [
       "0.3"
      ]
     },
     "execution_count": 5,
     "metadata": {},
     "output_type": "execute_result"
    }
   ],
   "source": [
    "round(0.1 + 0.2, 2)"
   ]
  },
  {
   "cell_type": "code",
   "execution_count": 6,
   "metadata": {},
   "outputs": [
    {
     "data": {
      "text/plain": [
       "True"
      ]
     },
     "execution_count": 6,
     "metadata": {},
     "output_type": "execute_result"
    }
   ],
   "source": [
    "round(0.1 + 0.2, 2) == 0.3"
   ]
  },
  {
   "cell_type": "code",
   "execution_count": 7,
   "metadata": {},
   "outputs": [],
   "source": [
    "# BCD -- binary coded decimals"
   ]
  },
  {
   "cell_type": "code",
   "execution_count": 8,
   "metadata": {},
   "outputs": [
    {
     "data": {
      "text/plain": [
       "123"
      ]
     },
     "execution_count": 8,
     "metadata": {},
     "output_type": "execute_result"
    }
   ],
   "source": [
    "123   # 0b1 0b2 0b3"
   ]
  },
  {
   "cell_type": "code",
   "execution_count": 9,
   "metadata": {},
   "outputs": [
    {
     "data": {
      "text/plain": [
       "Decimal('0.3')"
      ]
     },
     "execution_count": 9,
     "metadata": {},
     "output_type": "execute_result"
    }
   ],
   "source": [
    "from decimal import Decimal \n",
    "\n",
    "a = Decimal('0.1')\n",
    "b = Decimal('0.2')\n",
    "\n",
    "a + b"
   ]
  },
  {
   "cell_type": "code",
   "execution_count": 10,
   "metadata": {},
   "outputs": [
    {
     "data": {
      "text/plain": [
       "0.3"
      ]
     },
     "execution_count": 10,
     "metadata": {},
     "output_type": "execute_result"
    }
   ],
   "source": [
    "float(a+b)"
   ]
  },
  {
   "cell_type": "code",
   "execution_count": 12,
   "metadata": {},
   "outputs": [
    {
     "data": {
      "text/plain": [
       "104"
      ]
     },
     "execution_count": 12,
     "metadata": {},
     "output_type": "execute_result"
    }
   ],
   "source": [
    "import sys\n",
    "sys.getsizeof(a)"
   ]
  },
  {
   "cell_type": "code",
   "execution_count": 13,
   "metadata": {},
   "outputs": [
    {
     "data": {
      "text/plain": [
       "104"
      ]
     },
     "execution_count": 13,
     "metadata": {},
     "output_type": "execute_result"
    }
   ],
   "source": [
    "sys.getsizeof(b)"
   ]
  },
  {
   "cell_type": "code",
   "execution_count": 14,
   "metadata": {},
   "outputs": [
    {
     "data": {
      "text/plain": [
       "24"
      ]
     },
     "execution_count": 14,
     "metadata": {},
     "output_type": "execute_result"
    }
   ],
   "source": [
    "sys.getsizeof(0.1)"
   ]
  },
  {
   "cell_type": "code",
   "execution_count": 15,
   "metadata": {},
   "outputs": [
    {
     "data": {
      "text/plain": [
       "Decimal('0.3000000000000000166533453694')"
      ]
     },
     "execution_count": 15,
     "metadata": {},
     "output_type": "execute_result"
    }
   ],
   "source": [
    "\n",
    "a = Decimal(0.1)\n",
    "b = Decimal(0.2)\n",
    "\n",
    "a + b"
   ]
  },
  {
   "cell_type": "code",
   "execution_count": 16,
   "metadata": {},
   "outputs": [
    {
     "data": {
      "text/plain": [
       "Decimal('0.1000000000000000055511151231257827021181583404541015625')"
      ]
     },
     "execution_count": 16,
     "metadata": {},
     "output_type": "execute_result"
    }
   ],
   "source": [
    "a"
   ]
  },
  {
   "cell_type": "code",
   "execution_count": 17,
   "metadata": {},
   "outputs": [
    {
     "data": {
      "text/plain": [
       "Decimal('0.200000000000000011102230246251565404236316680908203125')"
      ]
     },
     "execution_count": 17,
     "metadata": {},
     "output_type": "execute_result"
    }
   ],
   "source": [
    "b"
   ]
  },
  {
   "cell_type": "code",
   "execution_count": 18,
   "metadata": {},
   "outputs": [
    {
     "data": {
      "text/plain": [
       "0.3333333333333333"
      ]
     },
     "execution_count": 18,
     "metadata": {},
     "output_type": "execute_result"
    }
   ],
   "source": [
    "1/3"
   ]
  },
  {
   "cell_type": "code",
   "execution_count": 19,
   "metadata": {},
   "outputs": [],
   "source": [
    "from math import isclose"
   ]
  },
  {
   "cell_type": "code",
   "execution_count": 20,
   "metadata": {},
   "outputs": [
    {
     "data": {
      "text/plain": [
       "True"
      ]
     },
     "execution_count": 20,
     "metadata": {},
     "output_type": "execute_result"
    }
   ],
   "source": [
    "isclose(0.1+0.2, 0.3)"
   ]
  },
  {
   "cell_type": "code",
   "execution_count": 21,
   "metadata": {},
   "outputs": [
    {
     "data": {
      "text/plain": [
       "False"
      ]
     },
     "execution_count": 21,
     "metadata": {},
     "output_type": "execute_result"
    }
   ],
   "source": [
    "isclose(0.1+0.2, 0.3, rel_tol=0.000000000000000001)"
   ]
  },
  {
   "cell_type": "code",
   "execution_count": 22,
   "metadata": {},
   "outputs": [
    {
     "data": {
      "text/plain": [
       "True"
      ]
     },
     "execution_count": 22,
     "metadata": {},
     "output_type": "execute_result"
    }
   ],
   "source": [
    "isclose(0.1+0.2, 0.3, rel_tol=0.1)"
   ]
  },
  {
   "cell_type": "code",
   "execution_count": 24,
   "metadata": {},
   "outputs": [
    {
     "data": {
      "text/plain": [
       "'0.1 + 0.2 = 0.3'"
      ]
     },
     "execution_count": 24,
     "metadata": {},
     "output_type": "execute_result"
    }
   ],
   "source": [
    "x = 0.1\n",
    "y = 0.2\n",
    "\n",
    "f'{x} + {y} = {x+y:0.2}'"
   ]
  },
  {
   "cell_type": "code",
   "execution_count": 25,
   "metadata": {},
   "outputs": [
    {
     "data": {
      "text/plain": [
       "True"
      ]
     },
     "execution_count": 25,
     "metadata": {},
     "output_type": "execute_result"
    }
   ],
   "source": [
    "x = 'abcd'\n",
    "y = 'abcd' \n",
    "\n",
    "x == y"
   ]
  },
  {
   "cell_type": "code",
   "execution_count": 26,
   "metadata": {},
   "outputs": [
    {
     "data": {
      "text/plain": [
       "True"
      ]
     },
     "execution_count": 26,
     "metadata": {},
     "output_type": "execute_result"
    }
   ],
   "source": [
    "x is y"
   ]
  },
  {
   "cell_type": "code",
   "execution_count": 27,
   "metadata": {},
   "outputs": [
    {
     "data": {
      "text/plain": [
       "True"
      ]
     },
     "execution_count": 27,
     "metadata": {},
     "output_type": "execute_result"
    }
   ],
   "source": [
    "x = 'abcd' * 5000\n",
    "y = 'abcd' * 5000\n",
    "\n",
    "x == y"
   ]
  },
  {
   "cell_type": "code",
   "execution_count": 28,
   "metadata": {},
   "outputs": [
    {
     "data": {
      "text/plain": [
       "False"
      ]
     },
     "execution_count": 28,
     "metadata": {},
     "output_type": "execute_result"
    }
   ],
   "source": [
    "x is y"
   ]
  },
  {
   "cell_type": "code",
   "execution_count": 29,
   "metadata": {},
   "outputs": [
    {
     "data": {
      "text/plain": [
       "True"
      ]
     },
     "execution_count": 29,
     "metadata": {},
     "output_type": "execute_result"
    }
   ],
   "source": [
    "x = 'ab.cd'\n",
    "y = 'ab.cd'\n",
    "\n",
    "x == y"
   ]
  },
  {
   "cell_type": "code",
   "execution_count": 30,
   "metadata": {},
   "outputs": [
    {
     "data": {
      "text/plain": [
       "False"
      ]
     },
     "execution_count": 30,
     "metadata": {},
     "output_type": "execute_result"
    }
   ],
   "source": [
    "x is y"
   ]
  },
  {
   "cell_type": "code",
   "execution_count": 31,
   "metadata": {},
   "outputs": [],
   "source": [
    "a = 100\n",
    "b = [10, 20, 30]"
   ]
  },
  {
   "cell_type": "code",
   "execution_count": 32,
   "metadata": {},
   "outputs": [
    {
     "data": {
      "text/plain": [
       "{'__name__': '__main__',\n",
       " '__doc__': 'Automatically created module for IPython interactive environment',\n",
       " '__package__': None,\n",
       " '__loader__': None,\n",
       " '__spec__': None,\n",
       " '__builtin__': <module 'builtins' (built-in)>,\n",
       " '__builtins__': <module 'builtins' (built-in)>,\n",
       " '_ih': ['',\n",
       "  'a = 1\\ntype(a)',\n",
       "  'a = 1.0\\ntype(a)',\n",
       "  '0.1 + 0.2',\n",
       "  '0.1 + 0.2 == 0.3',\n",
       "  'round(0.1 + 0.2, 2)',\n",
       "  'round(0.1 + 0.2, 2) == 0.3',\n",
       "  '# BCD -- binary coded decimals',\n",
       "  '123   # 0b1 0b2 0b3',\n",
       "  \"from decimal import Decimal \\n\\na = Decimal('0.1')\\nb = Decimal('0.2')\\n\\na + b\",\n",
       "  'float(a+b)',\n",
       "  'sys.getsizeof(a)',\n",
       "  'import sys\\nsys.getsizeof(a)',\n",
       "  'sys.getsizeof(b)',\n",
       "  'sys.getsizeof(0.1)',\n",
       "  'a = Decimal(0.1)\\nb = Decimal(0.2)\\n\\na + b',\n",
       "  'a',\n",
       "  'b',\n",
       "  '1/3',\n",
       "  'from math import isclose',\n",
       "  'isclose(0.1+0.2, 0.3)',\n",
       "  'isclose(0.1+0.2, 0.3, rel_tol=0.000000000000000001)',\n",
       "  'isclose(0.1+0.2, 0.3, rel_tol=0.1)',\n",
       "  \"x = 0.1\\ny = 0.2\\n\\nf'{x} + {y} = {x+y}'\",\n",
       "  \"x = 0.1\\ny = 0.2\\n\\nf'{x} + {y} = {x+y:0.2}'\",\n",
       "  \"x = 'abcd'\\ny = 'abcd' \\n\\nx == y\",\n",
       "  'x is y',\n",
       "  \"x = 'abcd' * 5000\\ny = 'abcd' * 5000\\n\\nx == y\",\n",
       "  'x is y',\n",
       "  \"x = 'ab.cd'\\ny = 'ab.cd'\\n\\nx == y\",\n",
       "  'x is y',\n",
       "  'a = 100\\nb = [10, 20, 30]',\n",
       "  'globals() '],\n",
       " '_oh': {1: int,\n",
       "  2: float,\n",
       "  3: 0.30000000000000004,\n",
       "  4: False,\n",
       "  5: 0.3,\n",
       "  6: True,\n",
       "  8: 123,\n",
       "  9: Decimal('0.3'),\n",
       "  10: 0.3,\n",
       "  12: 104,\n",
       "  13: 104,\n",
       "  14: 24,\n",
       "  15: Decimal('0.3000000000000000166533453694'),\n",
       "  16: Decimal('0.1000000000000000055511151231257827021181583404541015625'),\n",
       "  17: Decimal('0.200000000000000011102230246251565404236316680908203125'),\n",
       "  18: 0.3333333333333333,\n",
       "  20: True,\n",
       "  21: False,\n",
       "  22: True,\n",
       "  23: '0.1 + 0.2 = 0.30000000000000004',\n",
       "  24: '0.1 + 0.2 = 0.3',\n",
       "  25: True,\n",
       "  26: True,\n",
       "  27: True,\n",
       "  28: False,\n",
       "  29: True,\n",
       "  30: False},\n",
       " '_dh': ['/Users/reuven/Consulting/Courses/Python/Current/wdc-2021-jan-advanced-python'],\n",
       " 'In': ['',\n",
       "  'a = 1\\ntype(a)',\n",
       "  'a = 1.0\\ntype(a)',\n",
       "  '0.1 + 0.2',\n",
       "  '0.1 + 0.2 == 0.3',\n",
       "  'round(0.1 + 0.2, 2)',\n",
       "  'round(0.1 + 0.2, 2) == 0.3',\n",
       "  '# BCD -- binary coded decimals',\n",
       "  '123   # 0b1 0b2 0b3',\n",
       "  \"from decimal import Decimal \\n\\na = Decimal('0.1')\\nb = Decimal('0.2')\\n\\na + b\",\n",
       "  'float(a+b)',\n",
       "  'sys.getsizeof(a)',\n",
       "  'import sys\\nsys.getsizeof(a)',\n",
       "  'sys.getsizeof(b)',\n",
       "  'sys.getsizeof(0.1)',\n",
       "  'a = Decimal(0.1)\\nb = Decimal(0.2)\\n\\na + b',\n",
       "  'a',\n",
       "  'b',\n",
       "  '1/3',\n",
       "  'from math import isclose',\n",
       "  'isclose(0.1+0.2, 0.3)',\n",
       "  'isclose(0.1+0.2, 0.3, rel_tol=0.000000000000000001)',\n",
       "  'isclose(0.1+0.2, 0.3, rel_tol=0.1)',\n",
       "  \"x = 0.1\\ny = 0.2\\n\\nf'{x} + {y} = {x+y}'\",\n",
       "  \"x = 0.1\\ny = 0.2\\n\\nf'{x} + {y} = {x+y:0.2}'\",\n",
       "  \"x = 'abcd'\\ny = 'abcd' \\n\\nx == y\",\n",
       "  'x is y',\n",
       "  \"x = 'abcd' * 5000\\ny = 'abcd' * 5000\\n\\nx == y\",\n",
       "  'x is y',\n",
       "  \"x = 'ab.cd'\\ny = 'ab.cd'\\n\\nx == y\",\n",
       "  'x is y',\n",
       "  'a = 100\\nb = [10, 20, 30]',\n",
       "  'globals() '],\n",
       " 'Out': {1: int,\n",
       "  2: float,\n",
       "  3: 0.30000000000000004,\n",
       "  4: False,\n",
       "  5: 0.3,\n",
       "  6: True,\n",
       "  8: 123,\n",
       "  9: Decimal('0.3'),\n",
       "  10: 0.3,\n",
       "  12: 104,\n",
       "  13: 104,\n",
       "  14: 24,\n",
       "  15: Decimal('0.3000000000000000166533453694'),\n",
       "  16: Decimal('0.1000000000000000055511151231257827021181583404541015625'),\n",
       "  17: Decimal('0.200000000000000011102230246251565404236316680908203125'),\n",
       "  18: 0.3333333333333333,\n",
       "  20: True,\n",
       "  21: False,\n",
       "  22: True,\n",
       "  23: '0.1 + 0.2 = 0.30000000000000004',\n",
       "  24: '0.1 + 0.2 = 0.3',\n",
       "  25: True,\n",
       "  26: True,\n",
       "  27: True,\n",
       "  28: False,\n",
       "  29: True,\n",
       "  30: False},\n",
       " 'get_ipython': <bound method InteractiveShell.get_ipython of <ipykernel.zmqshell.ZMQInteractiveShell object at 0x10e852d90>>,\n",
       " 'exit': <IPython.core.autocall.ZMQExitAutocall at 0x10e955220>,\n",
       " 'quit': <IPython.core.autocall.ZMQExitAutocall at 0x10e955220>,\n",
       " '_': False,\n",
       " '__': True,\n",
       " '___': False,\n",
       " '_i': 'a = 100\\nb = [10, 20, 30]',\n",
       " '_ii': 'x is y',\n",
       " '_iii': \"x = 'ab.cd'\\ny = 'ab.cd'\\n\\nx == y\",\n",
       " '_i1': 'a = 1\\ntype(a)',\n",
       " 'a': 100,\n",
       " '_1': int,\n",
       " '_i2': 'a = 1.0\\ntype(a)',\n",
       " '_2': float,\n",
       " '_i3': '0.1 + 0.2',\n",
       " '_3': 0.30000000000000004,\n",
       " '_i4': '0.1 + 0.2 == 0.3',\n",
       " '_4': False,\n",
       " '_i5': 'round(0.1 + 0.2, 2)',\n",
       " '_5': 0.3,\n",
       " '_i6': 'round(0.1 + 0.2, 2) == 0.3',\n",
       " '_6': True,\n",
       " '_i7': '# BCD -- binary coded decimals',\n",
       " '_i8': '123   # 0b1 0b2 0b3',\n",
       " '_8': 123,\n",
       " '_i9': \"from decimal import Decimal \\n\\na = Decimal('0.1')\\nb = Decimal('0.2')\\n\\na + b\",\n",
       " 'Decimal': decimal.Decimal,\n",
       " 'b': [10, 20, 30],\n",
       " '_9': Decimal('0.3'),\n",
       " '_i10': 'float(a+b)',\n",
       " '_10': 0.3,\n",
       " '_i11': 'sys.getsizeof(a)',\n",
       " '_i12': 'import sys\\nsys.getsizeof(a)',\n",
       " 'sys': <module 'sys' (built-in)>,\n",
       " '_12': 104,\n",
       " '_i13': 'sys.getsizeof(b)',\n",
       " '_13': 104,\n",
       " '_i14': 'sys.getsizeof(0.1)',\n",
       " '_14': 24,\n",
       " '_i15': '\\na = Decimal(0.1)\\nb = Decimal(0.2)\\n\\na + b',\n",
       " '_15': Decimal('0.3000000000000000166533453694'),\n",
       " '_i16': 'a',\n",
       " '_16': Decimal('0.1000000000000000055511151231257827021181583404541015625'),\n",
       " '_i17': 'b',\n",
       " '_17': Decimal('0.200000000000000011102230246251565404236316680908203125'),\n",
       " '_i18': '1/3',\n",
       " '_18': 0.3333333333333333,\n",
       " '_i19': 'from math import isclose',\n",
       " 'isclose': <function math.isclose(a, b, *, rel_tol=1e-09, abs_tol=0.0)>,\n",
       " '_i20': 'isclose(0.1+0.2, 0.3)',\n",
       " '_20': True,\n",
       " '_i21': 'isclose(0.1+0.2, 0.3, rel_tol=0.000000000000000001)',\n",
       " '_21': False,\n",
       " '_i22': 'isclose(0.1+0.2, 0.3, rel_tol=0.1)',\n",
       " '_22': True,\n",
       " '_i23': \"x = 0.1\\ny = 0.2\\n\\nf'{x} + {y} = {x+y}'\",\n",
       " 'x': 'ab.cd',\n",
       " 'y': 'ab.cd',\n",
       " '_23': '0.1 + 0.2 = 0.30000000000000004',\n",
       " '_i24': \"x = 0.1\\ny = 0.2\\n\\nf'{x} + {y} = {x+y:0.2}'\",\n",
       " '_24': '0.1 + 0.2 = 0.3',\n",
       " '_i25': \"x = 'abcd'\\ny = 'abcd' \\n\\nx == y\",\n",
       " '_25': True,\n",
       " '_i26': 'x is y',\n",
       " '_26': True,\n",
       " '_i27': \"x = 'abcd' * 5000\\ny = 'abcd' * 5000\\n\\nx == y\",\n",
       " '_27': True,\n",
       " '_i28': 'x is y',\n",
       " '_28': False,\n",
       " '_i29': \"x = 'ab.cd'\\ny = 'ab.cd'\\n\\nx == y\",\n",
       " '_29': True,\n",
       " '_i30': 'x is y',\n",
       " '_30': False,\n",
       " '_i31': 'a = 100\\nb = [10, 20, 30]',\n",
       " '_i32': 'globals() '}"
      ]
     },
     "execution_count": 32,
     "metadata": {},
     "output_type": "execute_result"
    }
   ],
   "source": [
    "globals() "
   ]
  },
  {
   "cell_type": "code",
   "execution_count": 33,
   "metadata": {},
   "outputs": [
    {
     "data": {
      "text/plain": [
       "100"
      ]
     },
     "execution_count": 33,
     "metadata": {},
     "output_type": "execute_result"
    }
   ],
   "source": [
    "globals()['a']"
   ]
  },
  {
   "cell_type": "code",
   "execution_count": 34,
   "metadata": {},
   "outputs": [
    {
     "data": {
      "text/plain": [
       "[10, 20, 30]"
      ]
     },
     "execution_count": 34,
     "metadata": {},
     "output_type": "execute_result"
    }
   ],
   "source": [
    "globals()['b']"
   ]
  },
  {
   "cell_type": "code",
   "execution_count": 35,
   "metadata": {},
   "outputs": [
    {
     "data": {
      "text/plain": [
       "987"
      ]
     },
     "execution_count": 35,
     "metadata": {},
     "output_type": "execute_result"
    }
   ],
   "source": [
    "globals()['a'] = 987\n",
    "\n",
    "a"
   ]
  },
  {
   "cell_type": "code",
   "execution_count": 36,
   "metadata": {},
   "outputs": [
    {
     "name": "stdout",
     "output_type": "stream",
     "text": [
      "987\n"
     ]
    }
   ],
   "source": [
    "print(a)"
   ]
  },
  {
   "cell_type": "code",
   "execution_count": 37,
   "metadata": {},
   "outputs": [],
   "source": [
    "# interning -- cache of string"
   ]
  },
  {
   "cell_type": "code",
   "execution_count": 38,
   "metadata": {},
   "outputs": [
    {
     "data": {
      "text/plain": [
       "True"
      ]
     },
     "execution_count": 38,
     "metadata": {},
     "output_type": "execute_result"
    }
   ],
   "source": [
    "x = 'abcde'   \n",
    "y = 'abcde'\n",
    "\n",
    "x is y"
   ]
  },
  {
   "cell_type": "code",
   "execution_count": 39,
   "metadata": {},
   "outputs": [
    {
     "data": {
      "text/plain": [
       "False"
      ]
     },
     "execution_count": 39,
     "metadata": {},
     "output_type": "execute_result"
    }
   ],
   "source": [
    "x = 'abcde' * 2000\n",
    "y = 'abcde' * 2000\n",
    "\n",
    "x is y"
   ]
  },
  {
   "cell_type": "code",
   "execution_count": 40,
   "metadata": {},
   "outputs": [],
   "source": [
    "x = 'ab.cd'\n",
    "y = 'ab.cd'"
   ]
  },
  {
   "cell_type": "code",
   "execution_count": 41,
   "metadata": {},
   "outputs": [
    {
     "data": {
      "text/plain": [
       "False"
      ]
     },
     "execution_count": 41,
     "metadata": {},
     "output_type": "execute_result"
    }
   ],
   "source": [
    "x is y"
   ]
  },
  {
   "cell_type": "code",
   "execution_count": 43,
   "metadata": {},
   "outputs": [],
   "source": [
    "x = sys.intern('ab.cde')\n",
    "y = sys.intern('ab.cde')"
   ]
  },
  {
   "cell_type": "code",
   "execution_count": 44,
   "metadata": {},
   "outputs": [
    {
     "data": {
      "text/plain": [
       "True"
      ]
     },
     "execution_count": 44,
     "metadata": {},
     "output_type": "execute_result"
    }
   ],
   "source": [
    "x is y"
   ]
  },
  {
   "cell_type": "code",
   "execution_count": 45,
   "metadata": {},
   "outputs": [
    {
     "name": "stdout",
     "output_type": "stream",
     "text": [
      "ab.cde\n",
      "ab.cde\n",
      "ab.cde\n",
      "ab.cde\n",
      "ab.cde\n"
     ]
    }
   ],
   "source": [
    "for i in range(5):\n",
    "    print(x)   # print(globals()['x'])"
   ]
  },
  {
   "cell_type": "code",
   "execution_count": 46,
   "metadata": {},
   "outputs": [],
   "source": [
    "# f-string\n",
    "# str.format\n",
    "# str % ('a', 'b')  -- printf-ish"
   ]
  },
  {
   "cell_type": "code",
   "execution_count": 47,
   "metadata": {},
   "outputs": [],
   "source": [
    "x = 100\n",
    "y = [10, 20, 30]\n",
    "z = {'a':1, 'b':2}\n",
    "\n",
    "s = f'x = {x}, y = {y}, z = {z}'"
   ]
  },
  {
   "cell_type": "code",
   "execution_count": 48,
   "metadata": {},
   "outputs": [
    {
     "name": "stdout",
     "output_type": "stream",
     "text": [
      "x = 100, y = [10, 20, 30], z = {'a': 1, 'b': 2}\n"
     ]
    }
   ],
   "source": [
    "print(s)"
   ]
  },
  {
   "cell_type": "code",
   "execution_count": 49,
   "metadata": {},
   "outputs": [
    {
     "name": "stdout",
     "output_type": "stream",
     "text": [
      "a: 1\n",
      "b: 200\n",
      "cdefg: 3\n",
      "hijklmn: 45678\n"
     ]
    }
   ],
   "source": [
    "d = {'a':1, 'b':200, 'cdefg': 3, 'hijklmn': 45678}\n",
    "\n",
    "for key, value in d.items():\n",
    "    print(f'{key}: {value}')"
   ]
  },
  {
   "cell_type": "code",
   "execution_count": 50,
   "metadata": {},
   "outputs": [
    {
     "name": "stdout",
     "output_type": "stream",
     "text": [
      "a       :        1\n",
      "b       :      200\n",
      "cdefg   :        3\n",
      "hijklmn :    45678\n"
     ]
    }
   ],
   "source": [
    "\n",
    "for key, value in d.items():\n",
    "    print(f'{key:8}: {value:8}')"
   ]
  },
  {
   "cell_type": "code",
   "execution_count": 51,
   "metadata": {},
   "outputs": [
    {
     "name": "stdout",
     "output_type": "stream",
     "text": [
      "a              1\n",
      "b            200\n",
      "cdefg          3\n",
      "hijklmn    45678\n"
     ]
    }
   ],
   "source": [
    "\n",
    "for key, value in d.items():\n",
    "    print(f'{key:8}{value:8}')"
   ]
  },
  {
   "cell_type": "code",
   "execution_count": 52,
   "metadata": {},
   "outputs": [
    {
     "name": "stdout",
     "output_type": "stream",
     "text": [
      "a.......*******1\n",
      "b.......*****200\n",
      "cdefg...*******3\n",
      "hijklmn.***45678\n"
     ]
    }
   ],
   "source": [
    "\n",
    "for key, value in d.items():\n",
    "    print(f'{key:.<8}{value:*>8}')"
   ]
  },
  {
   "cell_type": "code",
   "execution_count": 54,
   "metadata": {},
   "outputs": [
    {
     "name": "stdout",
     "output_type": "stream",
     "text": [
      ".......a 1*******\n",
      ".......b 200*****\n",
      "...cdefg 3*******\n",
      ".hijklmn 45678***\n"
     ]
    }
   ],
   "source": [
    "\n",
    "for key, value in d.items():\n",
    "    print(f'{key:.>8} {value:*<8}')"
   ]
  },
  {
   "cell_type": "code",
   "execution_count": 55,
   "metadata": {},
   "outputs": [
    {
     "name": "stdout",
     "output_type": "stream",
     "text": [
      "The number is 123456.7890123.\n"
     ]
    }
   ],
   "source": [
    "f = 123456.7890123\n",
    "\n",
    "print(f'The number is {f}.')"
   ]
  },
  {
   "cell_type": "code",
   "execution_count": 58,
   "metadata": {},
   "outputs": [
    {
     "name": "stdout",
     "output_type": "stream",
     "text": [
      "The number is 1.2346e+05.\n"
     ]
    }
   ],
   "source": [
    "print(f'The number is {f:6.5}.')"
   ]
  },
  {
   "cell_type": "code",
   "execution_count": 59,
   "metadata": {},
   "outputs": [
    {
     "data": {
      "text/plain": [
       "100"
      ]
     },
     "execution_count": 59,
     "metadata": {},
     "output_type": "execute_result"
    }
   ],
   "source": [
    "x"
   ]
  },
  {
   "cell_type": "code",
   "execution_count": 60,
   "metadata": {},
   "outputs": [
    {
     "data": {
      "text/plain": [
       "[10, 20, 30]"
      ]
     },
     "execution_count": 60,
     "metadata": {},
     "output_type": "execute_result"
    }
   ],
   "source": [
    "y"
   ]
  },
  {
   "cell_type": "code",
   "execution_count": 61,
   "metadata": {},
   "outputs": [
    {
     "data": {
      "text/plain": [
       "{'a': 1, 'b': 2}"
      ]
     },
     "execution_count": 61,
     "metadata": {},
     "output_type": "execute_result"
    }
   ],
   "source": [
    "z"
   ]
  },
  {
   "cell_type": "code",
   "execution_count": 62,
   "metadata": {},
   "outputs": [
    {
     "name": "stdout",
     "output_type": "stream",
     "text": [
      "x = 100, y = [10, 20, 30], z = {'a': 1, 'b': 2}\n"
     ]
    }
   ],
   "source": [
    "print(f'x = {x}, y = {y}, z = {z}')"
   ]
  },
  {
   "cell_type": "code",
   "execution_count": 63,
   "metadata": {},
   "outputs": [
    {
     "name": "stdout",
     "output_type": "stream",
     "text": [
      "x=100, y=[10, 20, 30], z={'a': 1, 'b': 2}\n"
     ]
    }
   ],
   "source": [
    "# From Python 3.8, we can do this:\n",
    "\n",
    "print(f'{x=}, {y=}, {z=}')"
   ]
  },
  {
   "cell_type": "code",
   "execution_count": 64,
   "metadata": {},
   "outputs": [],
   "source": [
    "mylist = [10, 20, 30, 40, 50]"
   ]
  },
  {
   "cell_type": "code",
   "execution_count": 65,
   "metadata": {},
   "outputs": [
    {
     "data": {
      "text/plain": [
       "list"
      ]
     },
     "execution_count": 65,
     "metadata": {},
     "output_type": "execute_result"
    }
   ],
   "source": [
    "type(mylist)"
   ]
  },
  {
   "cell_type": "code",
   "execution_count": 66,
   "metadata": {},
   "outputs": [
    {
     "data": {
      "text/plain": [
       "[10, 20, 30, 40, 50, 60]"
      ]
     },
     "execution_count": 66,
     "metadata": {},
     "output_type": "execute_result"
    }
   ],
   "source": [
    "mylist.append(60)\n",
    "mylist"
   ]
  },
  {
   "cell_type": "code",
   "execution_count": 68,
   "metadata": {},
   "outputs": [
    {
     "name": "stdout",
     "output_type": "stream",
     "text": [
      "0: len(mylist) = 0, sys.getsizeof(mylist) = 56\n",
      "1: len(mylist) = 1, sys.getsizeof(mylist) = 88\n",
      "2: len(mylist) = 2, sys.getsizeof(mylist) = 88\n",
      "3: len(mylist) = 3, sys.getsizeof(mylist) = 88\n",
      "4: len(mylist) = 4, sys.getsizeof(mylist) = 88\n",
      "5: len(mylist) = 5, sys.getsizeof(mylist) = 120\n",
      "6: len(mylist) = 6, sys.getsizeof(mylist) = 120\n",
      "7: len(mylist) = 7, sys.getsizeof(mylist) = 120\n",
      "8: len(mylist) = 8, sys.getsizeof(mylist) = 120\n",
      "9: len(mylist) = 9, sys.getsizeof(mylist) = 184\n",
      "10: len(mylist) = 10, sys.getsizeof(mylist) = 184\n",
      "11: len(mylist) = 11, sys.getsizeof(mylist) = 184\n",
      "12: len(mylist) = 12, sys.getsizeof(mylist) = 184\n",
      "13: len(mylist) = 13, sys.getsizeof(mylist) = 184\n",
      "14: len(mylist) = 14, sys.getsizeof(mylist) = 184\n",
      "15: len(mylist) = 15, sys.getsizeof(mylist) = 184\n",
      "16: len(mylist) = 16, sys.getsizeof(mylist) = 184\n",
      "17: len(mylist) = 17, sys.getsizeof(mylist) = 248\n",
      "18: len(mylist) = 18, sys.getsizeof(mylist) = 248\n",
      "19: len(mylist) = 19, sys.getsizeof(mylist) = 248\n",
      "20: len(mylist) = 20, sys.getsizeof(mylist) = 248\n",
      "21: len(mylist) = 21, sys.getsizeof(mylist) = 248\n",
      "22: len(mylist) = 22, sys.getsizeof(mylist) = 248\n",
      "23: len(mylist) = 23, sys.getsizeof(mylist) = 248\n",
      "24: len(mylist) = 24, sys.getsizeof(mylist) = 248\n",
      "25: len(mylist) = 25, sys.getsizeof(mylist) = 312\n",
      "26: len(mylist) = 26, sys.getsizeof(mylist) = 312\n",
      "27: len(mylist) = 27, sys.getsizeof(mylist) = 312\n",
      "28: len(mylist) = 28, sys.getsizeof(mylist) = 312\n",
      "29: len(mylist) = 29, sys.getsizeof(mylist) = 312\n",
      "30: len(mylist) = 30, sys.getsizeof(mylist) = 312\n",
      "31: len(mylist) = 31, sys.getsizeof(mylist) = 312\n",
      "32: len(mylist) = 32, sys.getsizeof(mylist) = 312\n",
      "33: len(mylist) = 33, sys.getsizeof(mylist) = 376\n",
      "34: len(mylist) = 34, sys.getsizeof(mylist) = 376\n",
      "35: len(mylist) = 35, sys.getsizeof(mylist) = 376\n",
      "36: len(mylist) = 36, sys.getsizeof(mylist) = 376\n",
      "37: len(mylist) = 37, sys.getsizeof(mylist) = 376\n",
      "38: len(mylist) = 38, sys.getsizeof(mylist) = 376\n",
      "39: len(mylist) = 39, sys.getsizeof(mylist) = 376\n",
      "40: len(mylist) = 40, sys.getsizeof(mylist) = 376\n",
      "41: len(mylist) = 41, sys.getsizeof(mylist) = 472\n",
      "42: len(mylist) = 42, sys.getsizeof(mylist) = 472\n",
      "43: len(mylist) = 43, sys.getsizeof(mylist) = 472\n",
      "44: len(mylist) = 44, sys.getsizeof(mylist) = 472\n",
      "45: len(mylist) = 45, sys.getsizeof(mylist) = 472\n",
      "46: len(mylist) = 46, sys.getsizeof(mylist) = 472\n",
      "47: len(mylist) = 47, sys.getsizeof(mylist) = 472\n",
      "48: len(mylist) = 48, sys.getsizeof(mylist) = 472\n",
      "49: len(mylist) = 49, sys.getsizeof(mylist) = 472\n",
      "50: len(mylist) = 50, sys.getsizeof(mylist) = 472\n",
      "51: len(mylist) = 51, sys.getsizeof(mylist) = 472\n",
      "52: len(mylist) = 52, sys.getsizeof(mylist) = 472\n",
      "53: len(mylist) = 53, sys.getsizeof(mylist) = 568\n",
      "54: len(mylist) = 54, sys.getsizeof(mylist) = 568\n",
      "55: len(mylist) = 55, sys.getsizeof(mylist) = 568\n",
      "56: len(mylist) = 56, sys.getsizeof(mylist) = 568\n",
      "57: len(mylist) = 57, sys.getsizeof(mylist) = 568\n",
      "58: len(mylist) = 58, sys.getsizeof(mylist) = 568\n",
      "59: len(mylist) = 59, sys.getsizeof(mylist) = 568\n"
     ]
    }
   ],
   "source": [
    "mylist = []\n",
    "for i in range(60):\n",
    "    print(f'{i}: len(mylist) = {len(mylist)}, sys.getsizeof(mylist) = {sys.getsizeof(mylist)}')\n",
    "    mylist.append(i)"
   ]
  },
  {
   "cell_type": "code",
   "execution_count": 69,
   "metadata": {
    "collapsed": true
   },
   "outputs": [
    {
     "data": {
      "text/plain": [
       "[1,\n",
       " 1,\n",
       " 1,\n",
       " 1,\n",
       " 1,\n",
       " 1,\n",
       " 1,\n",
       " 1,\n",
       " 1,\n",
       " 1,\n",
       " 1,\n",
       " 1,\n",
       " 1,\n",
       " 1,\n",
       " 1,\n",
       " 1,\n",
       " 1,\n",
       " 1,\n",
       " 1,\n",
       " 1,\n",
       " 1,\n",
       " 1,\n",
       " 1,\n",
       " 1,\n",
       " 1,\n",
       " 1,\n",
       " 1,\n",
       " 1,\n",
       " 1,\n",
       " 1,\n",
       " 1,\n",
       " 1,\n",
       " 1,\n",
       " 1,\n",
       " 1,\n",
       " 1,\n",
       " 1,\n",
       " 1,\n",
       " 1,\n",
       " 1,\n",
       " 1,\n",
       " 1,\n",
       " 1,\n",
       " 1,\n",
       " 1,\n",
       " 1,\n",
       " 1,\n",
       " 1,\n",
       " 1,\n",
       " 1,\n",
       " 1,\n",
       " 1,\n",
       " 1,\n",
       " 1,\n",
       " 1,\n",
       " 1,\n",
       " 1,\n",
       " 1,\n",
       " 1,\n",
       " 1,\n",
       " 1,\n",
       " 1,\n",
       " 1,\n",
       " 1,\n",
       " 1,\n",
       " 1,\n",
       " 1,\n",
       " 1,\n",
       " 1,\n",
       " 1,\n",
       " 1,\n",
       " 1,\n",
       " 1,\n",
       " 1,\n",
       " 1,\n",
       " 1,\n",
       " 1,\n",
       " 1,\n",
       " 1,\n",
       " 1,\n",
       " 1,\n",
       " 1,\n",
       " 1,\n",
       " 1,\n",
       " 1,\n",
       " 1,\n",
       " 1,\n",
       " 1,\n",
       " 1,\n",
       " 1,\n",
       " 1,\n",
       " 1,\n",
       " 1,\n",
       " 1,\n",
       " 1,\n",
       " 1,\n",
       " 1,\n",
       " 1,\n",
       " 1,\n",
       " 1]"
      ]
     },
     "execution_count": 69,
     "metadata": {},
     "output_type": "execute_result"
    }
   ],
   "source": [
    "[1] * 100"
   ]
  },
  {
   "cell_type": "code",
   "execution_count": 70,
   "metadata": {},
   "outputs": [
    {
     "data": {
      "text/plain": [
       "tuple"
      ]
     },
     "execution_count": 70,
     "metadata": {},
     "output_type": "execute_result"
    }
   ],
   "source": [
    "# sequence -- string, list, tuple\n",
    "\n",
    "t = (10, 20, 30, 40, 50)\n",
    "type(t)"
   ]
  },
  {
   "cell_type": "code",
   "execution_count": 71,
   "metadata": {},
   "outputs": [
    {
     "data": {
      "text/plain": [
       "(10, 20, 30, 40, 50)"
      ]
     },
     "execution_count": 71,
     "metadata": {},
     "output_type": "execute_result"
    }
   ],
   "source": [
    "# no parens needed!\n",
    "t = 10, 20, 30, 40, 50\n",
    "\n",
    "t"
   ]
  },
  {
   "cell_type": "code",
   "execution_count": 72,
   "metadata": {},
   "outputs": [
    {
     "data": {
      "text/plain": [
       "tuple"
      ]
     },
     "execution_count": 72,
     "metadata": {},
     "output_type": "execute_result"
    }
   ],
   "source": [
    "type(t)"
   ]
  },
  {
   "cell_type": "code",
   "execution_count": 73,
   "metadata": {},
   "outputs": [
    {
     "data": {
      "text/plain": [
       "([10, 20, 30], [100, 200, 300, 400, 500])"
      ]
     },
     "execution_count": 73,
     "metadata": {},
     "output_type": "execute_result"
    }
   ],
   "source": [
    "t = ([10, 20, 30],\n",
    "     [100, 200,300, 400, 500])\n",
    "\n",
    "t"
   ]
  },
  {
   "cell_type": "code",
   "execution_count": 74,
   "metadata": {},
   "outputs": [
    {
     "ename": "TypeError",
     "evalue": "'tuple' object does not support item assignment",
     "output_type": "error",
     "traceback": [
      "\u001b[0;31m---------------------------------------------------------------------------\u001b[0m",
      "\u001b[0;31mTypeError\u001b[0m                                 Traceback (most recent call last)",
      "\u001b[0;32m<ipython-input-74-4602013894c6>\u001b[0m in \u001b[0;36m<module>\u001b[0;34m\u001b[0m\n\u001b[0;32m----> 1\u001b[0;31m \u001b[0mt\u001b[0m\u001b[0;34m[\u001b[0m\u001b[0;36m0\u001b[0m\u001b[0;34m]\u001b[0m \u001b[0;34m=\u001b[0m \u001b[0;34m'!'\u001b[0m\u001b[0;34m\u001b[0m\u001b[0;34m\u001b[0m\u001b[0m\n\u001b[0m",
      "\u001b[0;31mTypeError\u001b[0m: 'tuple' object does not support item assignment"
     ]
    }
   ],
   "source": [
    "t[0] = '!'"
   ]
  },
  {
   "cell_type": "code",
   "execution_count": 75,
   "metadata": {},
   "outputs": [
    {
     "data": {
      "text/plain": [
       "([10, 20, 30, 40], [100, 200, 300, 400, 500])"
      ]
     },
     "execution_count": 75,
     "metadata": {},
     "output_type": "execute_result"
    }
   ],
   "source": [
    "t[0].append(40)\n",
    "t"
   ]
  },
  {
   "cell_type": "code",
   "execution_count": 76,
   "metadata": {},
   "outputs": [
    {
     "data": {
      "text/plain": [
       "('Reuven', 'Lerner', 46)"
      ]
     },
     "execution_count": 76,
     "metadata": {},
     "output_type": "execute_result"
    }
   ],
   "source": [
    "p = ('Reuven', 'Lerner', 46)\n",
    "p"
   ]
  },
  {
   "cell_type": "code",
   "execution_count": 77,
   "metadata": {},
   "outputs": [
    {
     "data": {
      "text/plain": [
       "'Reuven'"
      ]
     },
     "execution_count": 77,
     "metadata": {},
     "output_type": "execute_result"
    }
   ],
   "source": [
    "p[0]"
   ]
  },
  {
   "cell_type": "code",
   "execution_count": 79,
   "metadata": {},
   "outputs": [
    {
     "data": {
      "text/plain": [
       "'Lerner'"
      ]
     },
     "execution_count": 79,
     "metadata": {},
     "output_type": "execute_result"
    }
   ],
   "source": [
    "p[1]"
   ]
  },
  {
   "cell_type": "code",
   "execution_count": 80,
   "metadata": {},
   "outputs": [
    {
     "data": {
      "text/plain": [
       "46"
      ]
     },
     "execution_count": 80,
     "metadata": {},
     "output_type": "execute_result"
    }
   ],
   "source": [
    "p[2]"
   ]
  },
  {
   "cell_type": "code",
   "execution_count": 81,
   "metadata": {},
   "outputs": [],
   "source": [
    "# named tuples"
   ]
  },
  {
   "cell_type": "code",
   "execution_count": 82,
   "metadata": {},
   "outputs": [],
   "source": [
    "from collections import namedtuple\n",
    "\n",
    "Person = namedtuple('Person', ['first', 'last', 'shoesize'])"
   ]
  },
  {
   "cell_type": "code",
   "execution_count": 83,
   "metadata": {},
   "outputs": [],
   "source": [
    "class Foo:\n",
    "    pass"
   ]
  },
  {
   "cell_type": "code",
   "execution_count": 84,
   "metadata": {},
   "outputs": [
    {
     "data": {
      "text/plain": [
       "'Foo'"
      ]
     },
     "execution_count": 84,
     "metadata": {},
     "output_type": "execute_result"
    }
   ],
   "source": [
    "Foo.__name__"
   ]
  },
  {
   "cell_type": "code",
   "execution_count": 87,
   "metadata": {},
   "outputs": [],
   "source": [
    "# namedtuple returns a new class\n",
    "# the list of strings shows the fields that we can create\n",
    "\n",
    "Person = namedtuple('Person',\n",
    "                    ['first', 'last', 'shoesize'])"
   ]
  },
  {
   "cell_type": "code",
   "execution_count": 88,
   "metadata": {},
   "outputs": [
    {
     "data": {
      "text/plain": [
       "'Person'"
      ]
     },
     "execution_count": 88,
     "metadata": {},
     "output_type": "execute_result"
    }
   ],
   "source": [
    "Person.__name__"
   ]
  },
  {
   "cell_type": "code",
   "execution_count": 89,
   "metadata": {},
   "outputs": [],
   "source": [
    "p = Person('Reuven', 'Lerner', 46)"
   ]
  },
  {
   "cell_type": "code",
   "execution_count": 90,
   "metadata": {},
   "outputs": [
    {
     "data": {
      "text/plain": [
       "Person(first='Reuven', last='Lerner', shoesize=46)"
      ]
     },
     "execution_count": 90,
     "metadata": {},
     "output_type": "execute_result"
    }
   ],
   "source": [
    "p"
   ]
  },
  {
   "cell_type": "code",
   "execution_count": 91,
   "metadata": {},
   "outputs": [
    {
     "data": {
      "text/plain": [
       "'Reuven'"
      ]
     },
     "execution_count": 91,
     "metadata": {},
     "output_type": "execute_result"
    }
   ],
   "source": [
    "p[0]"
   ]
  },
  {
   "cell_type": "code",
   "execution_count": 92,
   "metadata": {},
   "outputs": [
    {
     "data": {
      "text/plain": [
       "'Lerner'"
      ]
     },
     "execution_count": 92,
     "metadata": {},
     "output_type": "execute_result"
    }
   ],
   "source": [
    "p[1]"
   ]
  },
  {
   "cell_type": "code",
   "execution_count": 93,
   "metadata": {},
   "outputs": [
    {
     "data": {
      "text/plain": [
       "46"
      ]
     },
     "execution_count": 93,
     "metadata": {},
     "output_type": "execute_result"
    }
   ],
   "source": [
    "p[2]"
   ]
  },
  {
   "cell_type": "code",
   "execution_count": 94,
   "metadata": {},
   "outputs": [
    {
     "data": {
      "text/plain": [
       "'Reuven'"
      ]
     },
     "execution_count": 94,
     "metadata": {},
     "output_type": "execute_result"
    }
   ],
   "source": [
    "p.first"
   ]
  },
  {
   "cell_type": "code",
   "execution_count": 95,
   "metadata": {},
   "outputs": [
    {
     "data": {
      "text/plain": [
       "'Lerner'"
      ]
     },
     "execution_count": 95,
     "metadata": {},
     "output_type": "execute_result"
    }
   ],
   "source": [
    "p.last"
   ]
  },
  {
   "cell_type": "code",
   "execution_count": 96,
   "metadata": {},
   "outputs": [
    {
     "data": {
      "text/plain": [
       "46"
      ]
     },
     "execution_count": 96,
     "metadata": {},
     "output_type": "execute_result"
    }
   ],
   "source": [
    "p.shoesize"
   ]
  },
  {
   "cell_type": "code",
   "execution_count": 97,
   "metadata": {},
   "outputs": [
    {
     "data": {
      "text/plain": [
       "type"
      ]
     },
     "execution_count": 97,
     "metadata": {},
     "output_type": "execute_result"
    }
   ],
   "source": [
    "type(Person)"
   ]
  },
  {
   "cell_type": "code",
   "execution_count": 98,
   "metadata": {},
   "outputs": [
    {
     "data": {
      "text/plain": [
       "type"
      ]
     },
     "execution_count": 98,
     "metadata": {},
     "output_type": "execute_result"
    }
   ],
   "source": [
    "type(Person)"
   ]
  },
  {
   "cell_type": "code",
   "execution_count": 99,
   "metadata": {},
   "outputs": [],
   "source": [
    "p1 = Person('first1', 'last1', 1)\n",
    "p2 = Person('first2', 'last2', 2)\n"
   ]
  },
  {
   "cell_type": "code",
   "execution_count": 100,
   "metadata": {},
   "outputs": [
    {
     "data": {
      "text/plain": [
       "Person(first='first1', last='last1', shoesize=1)"
      ]
     },
     "execution_count": 100,
     "metadata": {},
     "output_type": "execute_result"
    }
   ],
   "source": [
    "p1"
   ]
  },
  {
   "cell_type": "code",
   "execution_count": 101,
   "metadata": {},
   "outputs": [
    {
     "data": {
      "text/plain": [
       "Person(first='first2', last='last2', shoesize=2)"
      ]
     },
     "execution_count": 101,
     "metadata": {},
     "output_type": "execute_result"
    }
   ],
   "source": [
    "p2"
   ]
  },
  {
   "cell_type": "code",
   "execution_count": 102,
   "metadata": {},
   "outputs": [
    {
     "data": {
      "text/plain": [
       "__main__.Person"
      ]
     },
     "execution_count": 102,
     "metadata": {},
     "output_type": "execute_result"
    }
   ],
   "source": [
    "type(p1)"
   ]
  },
  {
   "cell_type": "code",
   "execution_count": 103,
   "metadata": {},
   "outputs": [
    {
     "data": {
      "text/plain": [
       "__main__.Person"
      ]
     },
     "execution_count": 103,
     "metadata": {},
     "output_type": "execute_result"
    }
   ],
   "source": [
    "type(p2)"
   ]
  },
  {
   "cell_type": "code",
   "execution_count": 104,
   "metadata": {},
   "outputs": [
    {
     "data": {
      "text/plain": [
       "'first1'"
      ]
     },
     "execution_count": 104,
     "metadata": {},
     "output_type": "execute_result"
    }
   ],
   "source": [
    "p1.first"
   ]
  },
  {
   "cell_type": "code",
   "execution_count": 105,
   "metadata": {},
   "outputs": [
    {
     "ename": "AttributeError",
     "evalue": "can't set attribute",
     "output_type": "error",
     "traceback": [
      "\u001b[0;31m---------------------------------------------------------------------------\u001b[0m",
      "\u001b[0;31mAttributeError\u001b[0m                            Traceback (most recent call last)",
      "\u001b[0;32m<ipython-input-105-b50dc2bb9139>\u001b[0m in \u001b[0;36m<module>\u001b[0;34m\u001b[0m\n\u001b[0;32m----> 1\u001b[0;31m \u001b[0mp1\u001b[0m\u001b[0;34m.\u001b[0m\u001b[0mfirst\u001b[0m \u001b[0;34m=\u001b[0m \u001b[0;34m'asdfafafa'\u001b[0m\u001b[0;34m\u001b[0m\u001b[0;34m\u001b[0m\u001b[0m\n\u001b[0m",
      "\u001b[0;31mAttributeError\u001b[0m: can't set attribute"
     ]
    }
   ],
   "source": [
    "p1.first = 'asdfafafa'"
   ]
  },
  {
   "cell_type": "code",
   "execution_count": 106,
   "metadata": {},
   "outputs": [
    {
     "data": {
      "text/plain": [
       "Person(first='zzzzz', last='last1', shoesize=1)"
      ]
     },
     "execution_count": 106,
     "metadata": {},
     "output_type": "execute_result"
    }
   ],
   "source": [
    "p1._replace(first='zzzzz')"
   ]
  },
  {
   "cell_type": "code",
   "execution_count": 107,
   "metadata": {},
   "outputs": [
    {
     "data": {
      "text/plain": [
       "Person(first='zzzzz', last='last1', shoesize=1)"
      ]
     },
     "execution_count": 107,
     "metadata": {},
     "output_type": "execute_result"
    }
   ],
   "source": [
    "p1 = p1._replace(first='zzzzz')\n",
    "p1"
   ]
  },
  {
   "cell_type": "code",
   "execution_count": 108,
   "metadata": {},
   "outputs": [
    {
     "data": {
      "text/plain": [
       "([10, 20, 30, 40], [100, 200, 300, 400, 500])"
      ]
     },
     "execution_count": 108,
     "metadata": {},
     "output_type": "execute_result"
    }
   ],
   "source": [
    "t"
   ]
  },
  {
   "cell_type": "code",
   "execution_count": 109,
   "metadata": {},
   "outputs": [
    {
     "data": {
      "text/plain": [
       "([10, 20, 30, 40, 50], [100, 200, 300, 400, 500])"
      ]
     },
     "execution_count": 109,
     "metadata": {},
     "output_type": "execute_result"
    }
   ],
   "source": [
    "t[0].append(50)\n",
    "t"
   ]
  },
  {
   "cell_type": "code",
   "execution_count": 110,
   "metadata": {},
   "outputs": [
    {
     "ename": "TypeError",
     "evalue": "'tuple' object does not support item assignment",
     "output_type": "error",
     "traceback": [
      "\u001b[0;31m---------------------------------------------------------------------------\u001b[0m",
      "\u001b[0;31mTypeError\u001b[0m                                 Traceback (most recent call last)",
      "\u001b[0;32m<ipython-input-110-a3a45e350f4a>\u001b[0m in \u001b[0;36m<module>\u001b[0;34m\u001b[0m\n\u001b[0;32m----> 1\u001b[0;31m \u001b[0mt\u001b[0m\u001b[0;34m[\u001b[0m\u001b[0;36m0\u001b[0m\u001b[0;34m]\u001b[0m \u001b[0;34m+=\u001b[0m \u001b[0;34m[\u001b[0m\u001b[0;36m60\u001b[0m\u001b[0;34m,\u001b[0m \u001b[0;36m70\u001b[0m\u001b[0;34m,\u001b[0m \u001b[0;36m80\u001b[0m\u001b[0;34m]\u001b[0m\u001b[0;34m\u001b[0m\u001b[0;34m\u001b[0m\u001b[0m\n\u001b[0m",
      "\u001b[0;31mTypeError\u001b[0m: 'tuple' object does not support item assignment"
     ]
    }
   ],
   "source": [
    "t[0] += [60, 70, 80]    # __iadd__ # (1) adds (2) assigns"
   ]
  },
  {
   "cell_type": "code",
   "execution_count": 111,
   "metadata": {},
   "outputs": [
    {
     "data": {
      "text/plain": [
       "([10, 20, 30, 40, 50, 60, 70, 80], [100, 200, 300, 400, 500])"
      ]
     },
     "execution_count": 111,
     "metadata": {},
     "output_type": "execute_result"
    }
   ],
   "source": [
    "t"
   ]
  },
  {
   "cell_type": "code",
   "execution_count": 112,
   "metadata": {},
   "outputs": [
    {
     "data": {
      "text/plain": [
       "([10, 20, 30, 40, 50, 60, 70, 80, 90, 91, 92], [100, 200, 300, 400, 500])"
      ]
     },
     "execution_count": 112,
     "metadata": {},
     "output_type": "execute_result"
    }
   ],
   "source": [
    "t[0].extend([90, 91, 92])\n",
    "t"
   ]
  },
  {
   "cell_type": "code",
   "execution_count": 113,
   "metadata": {},
   "outputs": [
    {
     "data": {
      "text/plain": [
       "tuple"
      ]
     },
     "execution_count": 113,
     "metadata": {},
     "output_type": "execute_result"
    }
   ],
   "source": [
    "# tuple with 1 element\n",
    "t = (10,)  \n",
    "type(t)"
   ]
  },
  {
   "cell_type": "code",
   "execution_count": 114,
   "metadata": {},
   "outputs": [
    {
     "data": {
      "text/plain": [
       "int"
      ]
     },
     "execution_count": 114,
     "metadata": {},
     "output_type": "execute_result"
    }
   ],
   "source": [
    "t = (10)\n",
    "type(t)"
   ]
  },
  {
   "cell_type": "markdown",
   "metadata": {},
   "source": [
    "# Exercise: Bookstore\n",
    "\n",
    "1. Create, using `namedtuple`, a new `Book` class, which has three attributes: `title`, `author`, and `price`.\n",
    "2. Create a list of `Book` objects (3-4 is fine), and put them inain a list.\n",
    "3. Ask the user repeatedly to enter the name of a book they want to buy.\n",
    "    - If the book is in inventory, then print all of its details, and add the price to the total\n",
    "    - If the book is *not* in inventory, then tell the user\n",
    "    - If we get an empty string, then we stop asking\n",
    "4. At the end, tell the user the final price."
   ]
  },
  {
   "cell_type": "code",
   "execution_count": 115,
   "metadata": {},
   "outputs": [
    {
     "data": {
      "text/plain": [
       "[Book(title='title1', author='author1', price=50),\n",
       " Book(title='title2', author='author1', price=100),\n",
       " Book(title='title3', author='author2', price=200)]"
      ]
     },
     "execution_count": 115,
     "metadata": {},
     "output_type": "execute_result"
    }
   ],
   "source": [
    "from collections import namedtuple\n",
    "\n",
    "Book = namedtuple('Book', ['title', 'author', 'price'])\n",
    "\n",
    "b1 = Book('title1', 'author1', 50)\n",
    "b2 = Book('title2', 'author1', 100)\n",
    "b3 = Book('title3', 'author2', 200)\n",
    "\n",
    "all_books = [b1, b2, b3]\n",
    "\n",
    "all_books"
   ]
  },
  {
   "cell_type": "code",
   "execution_count": 118,
   "metadata": {},
   "outputs": [
    {
     "name": "stdout",
     "output_type": "stream",
     "text": [
      "Enter book title: title999\n",
      "Did not find title999\n",
      "Enter book title: \n",
      "Total is 0\n"
     ]
    }
   ],
   "source": [
    "total = 0\n",
    "\n",
    "while True:\n",
    "    s = input('Enter book title: ').strip()\n",
    "    \n",
    "    if not s:    # if s is empty, then exit from the loop\n",
    "        break\n",
    "        \n",
    "    found_book = False\n",
    "    for one_book in all_books:\n",
    "        if one_book.title == s:\n",
    "            print(f'Found {s} by {one_book.author}, price {one_book.price}')\n",
    "            total += one_book.price\n",
    "            found_book = True\n",
    "            break\n",
    "            \n",
    "    if not found_book:\n",
    "        print(f'Did not find {s}')\n",
    "            \n",
    "print(f'Total is {total}')"
   ]
  },
  {
   "cell_type": "code",
   "execution_count": 119,
   "metadata": {},
   "outputs": [
    {
     "name": "stdout",
     "output_type": "stream",
     "text": [
      "Enter book title: title1\n",
      "Found title1 by author1, price 50\n",
      "Enter book title: title99\n",
      "Did not find title99\n",
      "Enter book title: \n",
      "Total is 50\n"
     ]
    }
   ],
   "source": [
    "total = 0\n",
    "\n",
    "while True:\n",
    "    s = input('Enter book title: ').strip()\n",
    "    \n",
    "    if not s:    # if s is empty, then exit from the loop\n",
    "        break\n",
    "        \n",
    "    for one_book in all_books:\n",
    "        if one_book.title == s:\n",
    "            print(f'Found {s} by {one_book.author}, price {one_book.price}')\n",
    "            total += one_book.price\n",
    "            break\n",
    "            \n",
    "    else:    # got_to_end_of_loop_without_encountering_a_break\n",
    "        print(f'Did not find {s}')\n",
    "            \n",
    "print(f'Total is {total}')"
   ]
  },
  {
   "cell_type": "code",
   "execution_count": 121,
   "metadata": {},
   "outputs": [
    {
     "name": "stdout",
     "output_type": "stream",
     "text": [
      "Enter book title: title1\n",
      "Found title1 by author1, price 50\n",
      "Enter book title: \n",
      "Total is 50\n"
     ]
    }
   ],
   "source": [
    "total = 0\n",
    "\n",
    "# := \"assignment expression\"\n",
    "# \"walrus\"\n",
    "# starting with Python 3.8\n",
    "\n",
    "while s := input('Enter book title: ').strip():\n",
    "    \n",
    "    for one_book in all_books:\n",
    "        if one_book.title == s:\n",
    "            print(f'Found {s} by {one_book.author}, price {one_book.price}')\n",
    "            total += one_book.price\n",
    "            break\n",
    "            \n",
    "    else:    # got_to_end_of_loop_without_encountering_a_break\n",
    "        print(f'Did not find {s}')\n",
    "            \n",
    "print(f'Total is {total}')"
   ]
  },
  {
   "cell_type": "code",
   "execution_count": 123,
   "metadata": {},
   "outputs": [
    {
     "name": "stdout",
     "output_type": "stream",
     "text": [
      "5\n"
     ]
    }
   ],
   "source": [
    "if x := 5:\n",
    "   print(x)"
   ]
  },
  {
   "cell_type": "code",
   "execution_count": 124,
   "metadata": {},
   "outputs": [
    {
     "name": "stdout",
     "output_type": "stream",
     "text": [
      "b1=Book(title='title1', author='author1', price=50), b2=Book(title='title2', author='author1', price=100), b3=Book(title='title3', author='author2', price=200)\n"
     ]
    }
   ],
   "source": [
    "print(f'{b1=}, {b2=}, {b3=}')"
   ]
  },
  {
   "cell_type": "code",
   "execution_count": 125,
   "metadata": {},
   "outputs": [],
   "source": [
    "# unpacking\n",
    "mylist = [10, 20, 30]\n",
    "\n",
    "x,y,z = mylist\n"
   ]
  },
  {
   "cell_type": "code",
   "execution_count": 126,
   "metadata": {},
   "outputs": [
    {
     "name": "stdout",
     "output_type": "stream",
     "text": [
      "x=10, y=20, z=30\n"
     ]
    }
   ],
   "source": [
    "print(f'{x=}, {y=}, {z=}')"
   ]
  },
  {
   "cell_type": "code",
   "execution_count": 127,
   "metadata": {},
   "outputs": [],
   "source": [
    "title, author, price = b1"
   ]
  },
  {
   "cell_type": "code",
   "execution_count": 128,
   "metadata": {},
   "outputs": [
    {
     "data": {
      "text/plain": [
       "'title1'"
      ]
     },
     "execution_count": 128,
     "metadata": {},
     "output_type": "execute_result"
    }
   ],
   "source": [
    "title"
   ]
  },
  {
   "cell_type": "code",
   "execution_count": 129,
   "metadata": {},
   "outputs": [
    {
     "data": {
      "text/plain": [
       "'author1'"
      ]
     },
     "execution_count": 129,
     "metadata": {},
     "output_type": "execute_result"
    }
   ],
   "source": [
    "author"
   ]
  },
  {
   "cell_type": "code",
   "execution_count": 130,
   "metadata": {},
   "outputs": [
    {
     "data": {
      "text/plain": [
       "50"
      ]
     },
     "execution_count": 130,
     "metadata": {},
     "output_type": "execute_result"
    }
   ],
   "source": [
    "price"
   ]
  },
  {
   "cell_type": "code",
   "execution_count": 131,
   "metadata": {},
   "outputs": [
    {
     "name": "stdout",
     "output_type": "stream",
     "text": [
      "Enter book title: title1\n",
      "Found title1 by author1, price 50\n",
      "Enter book title: \n",
      "Total is 50\n"
     ]
    }
   ],
   "source": [
    "total = 0\n",
    "\n",
    "# := \"assignment expression\"\n",
    "# \"walrus\"\n",
    "# starting with Python 3.8\n",
    "\n",
    "while s := input('Enter book title: ').strip():\n",
    "    \n",
    "    for title, author, price in all_books:\n",
    "        if title == s:\n",
    "            print(f'Found {s} by {author}, price {price}')\n",
    "            total += price\n",
    "            break\n",
    "            \n",
    "    else:    # got_to_end_of_loop_without_encountering_a_break\n",
    "        print(f'Did not find {s}')\n",
    "            \n",
    "print(f'Total is {total}')"
   ]
  },
  {
   "cell_type": "code",
   "execution_count": 132,
   "metadata": {},
   "outputs": [
    {
     "ename": "ValueError",
     "evalue": "too many values to unpack (expected 3)",
     "output_type": "error",
     "traceback": [
      "\u001b[0;31m---------------------------------------------------------------------------\u001b[0m",
      "\u001b[0;31mValueError\u001b[0m                                Traceback (most recent call last)",
      "\u001b[0;32m<ipython-input-132-94c4714ff913>\u001b[0m in \u001b[0;36m<module>\u001b[0;34m\u001b[0m\n\u001b[1;32m      1\u001b[0m \u001b[0mmylist\u001b[0m \u001b[0;34m=\u001b[0m \u001b[0;34m[\u001b[0m\u001b[0;36m10\u001b[0m\u001b[0;34m,\u001b[0m \u001b[0;36m20\u001b[0m\u001b[0;34m,\u001b[0m \u001b[0;36m30\u001b[0m\u001b[0;34m,\u001b[0m \u001b[0;36m40\u001b[0m\u001b[0;34m,\u001b[0m \u001b[0;36m50\u001b[0m\u001b[0;34m,\u001b[0m \u001b[0;36m60\u001b[0m\u001b[0;34m]\u001b[0m\u001b[0;34m\u001b[0m\u001b[0;34m\u001b[0m\u001b[0m\n\u001b[1;32m      2\u001b[0m \u001b[0;34m\u001b[0m\u001b[0m\n\u001b[0;32m----> 3\u001b[0;31m \u001b[0mx\u001b[0m\u001b[0;34m,\u001b[0m\u001b[0my\u001b[0m\u001b[0;34m,\u001b[0m\u001b[0mz\u001b[0m \u001b[0;34m=\u001b[0m \u001b[0mmylist\u001b[0m\u001b[0;34m\u001b[0m\u001b[0;34m\u001b[0m\u001b[0m\n\u001b[0m",
      "\u001b[0;31mValueError\u001b[0m: too many values to unpack (expected 3)"
     ]
    }
   ],
   "source": [
    "mylist = [10, 20, 30, 40, 50, 60]\n",
    "\n",
    "x,y,z = mylist"
   ]
  },
  {
   "cell_type": "code",
   "execution_count": 133,
   "metadata": {},
   "outputs": [],
   "source": [
    "x, *y, z = mylist"
   ]
  },
  {
   "cell_type": "code",
   "execution_count": 134,
   "metadata": {},
   "outputs": [
    {
     "data": {
      "text/plain": [
       "10"
      ]
     },
     "execution_count": 134,
     "metadata": {},
     "output_type": "execute_result"
    }
   ],
   "source": [
    "x"
   ]
  },
  {
   "cell_type": "code",
   "execution_count": 135,
   "metadata": {},
   "outputs": [
    {
     "data": {
      "text/plain": [
       "60"
      ]
     },
     "execution_count": 135,
     "metadata": {},
     "output_type": "execute_result"
    }
   ],
   "source": [
    "z"
   ]
  },
  {
   "cell_type": "code",
   "execution_count": 136,
   "metadata": {},
   "outputs": [
    {
     "data": {
      "text/plain": [
       "[20, 30, 40, 50]"
      ]
     },
     "execution_count": 136,
     "metadata": {},
     "output_type": "execute_result"
    }
   ],
   "source": [
    "y"
   ]
  },
  {
   "cell_type": "code",
   "execution_count": 137,
   "metadata": {},
   "outputs": [],
   "source": [
    "x,y,*z = mylist"
   ]
  },
  {
   "cell_type": "code",
   "execution_count": 138,
   "metadata": {},
   "outputs": [
    {
     "data": {
      "text/plain": [
       "[30, 40, 50, 60]"
      ]
     },
     "execution_count": 138,
     "metadata": {},
     "output_type": "execute_result"
    }
   ],
   "source": [
    "z"
   ]
  },
  {
   "cell_type": "code",
   "execution_count": 139,
   "metadata": {},
   "outputs": [
    {
     "data": {
      "text/plain": [
       "10"
      ]
     },
     "execution_count": 139,
     "metadata": {},
     "output_type": "execute_result"
    }
   ],
   "source": [
    "x"
   ]
  },
  {
   "cell_type": "code",
   "execution_count": 140,
   "metadata": {},
   "outputs": [
    {
     "data": {
      "text/plain": [
       "20"
      ]
     },
     "execution_count": 140,
     "metadata": {},
     "output_type": "execute_result"
    }
   ],
   "source": [
    "y"
   ]
  },
  {
   "cell_type": "code",
   "execution_count": 141,
   "metadata": {},
   "outputs": [],
   "source": [
    "d = {'a':1, 'b':2, 'c':3}"
   ]
  },
  {
   "cell_type": "code",
   "execution_count": 142,
   "metadata": {},
   "outputs": [],
   "source": [
    "# keys must be immutable -- typically, int, float, or string\n",
    "# values can be anything at all"
   ]
  },
  {
   "cell_type": "code",
   "execution_count": 143,
   "metadata": {
    "collapsed": true
   },
   "outputs": [
    {
     "data": {
      "text/plain": [
       "{'__name__': '__main__',\n",
       " '__doc__': 'Automatically created module for IPython interactive environment',\n",
       " '__package__': None,\n",
       " '__loader__': None,\n",
       " '__spec__': None,\n",
       " '__builtin__': <module 'builtins' (built-in)>,\n",
       " '__builtins__': <module 'builtins' (built-in)>,\n",
       " '_ih': ['',\n",
       "  'a = 1\\ntype(a)',\n",
       "  'a = 1.0\\ntype(a)',\n",
       "  '0.1 + 0.2',\n",
       "  '0.1 + 0.2 == 0.3',\n",
       "  'round(0.1 + 0.2, 2)',\n",
       "  'round(0.1 + 0.2, 2) == 0.3',\n",
       "  '# BCD -- binary coded decimals',\n",
       "  '123   # 0b1 0b2 0b3',\n",
       "  \"from decimal import Decimal \\n\\na = Decimal('0.1')\\nb = Decimal('0.2')\\n\\na + b\",\n",
       "  'float(a+b)',\n",
       "  'sys.getsizeof(a)',\n",
       "  'import sys\\nsys.getsizeof(a)',\n",
       "  'sys.getsizeof(b)',\n",
       "  'sys.getsizeof(0.1)',\n",
       "  'a = Decimal(0.1)\\nb = Decimal(0.2)\\n\\na + b',\n",
       "  'a',\n",
       "  'b',\n",
       "  '1/3',\n",
       "  'from math import isclose',\n",
       "  'isclose(0.1+0.2, 0.3)',\n",
       "  'isclose(0.1+0.2, 0.3, rel_tol=0.000000000000000001)',\n",
       "  'isclose(0.1+0.2, 0.3, rel_tol=0.1)',\n",
       "  \"x = 0.1\\ny = 0.2\\n\\nf'{x} + {y} = {x+y}'\",\n",
       "  \"x = 0.1\\ny = 0.2\\n\\nf'{x} + {y} = {x+y:0.2}'\",\n",
       "  \"x = 'abcd'\\ny = 'abcd' \\n\\nx == y\",\n",
       "  'x is y',\n",
       "  \"x = 'abcd' * 5000\\ny = 'abcd' * 5000\\n\\nx == y\",\n",
       "  'x is y',\n",
       "  \"x = 'ab.cd'\\ny = 'ab.cd'\\n\\nx == y\",\n",
       "  'x is y',\n",
       "  'a = 100\\nb = [10, 20, 30]',\n",
       "  'globals() ',\n",
       "  \"globals()['a']\",\n",
       "  \"globals()['b']\",\n",
       "  \"globals()['a'] = 987\\n\\na\",\n",
       "  'print(a)',\n",
       "  '# interning -- cache of string',\n",
       "  \"x = 'abcde'   \\ny = 'abcde'\\n\\nx is y\",\n",
       "  \"x = 'abcde' * 2000\\ny = 'abcde' * 2000\\n\\nx is y\",\n",
       "  \"x = 'ab.cd'\\ny = 'ab.cd'\",\n",
       "  'x is y',\n",
       "  'sys.intern',\n",
       "  \"x = sys.intern('ab.cde')\\ny = sys.intern('ab.cde')\",\n",
       "  'x is y',\n",
       "  \"for i in range(5):\\n    print(x)   # print(globals()['x'])\",\n",
       "  \"# f-string\\n# str.format\\n# str % ('a', 'b')  -- printf-ish\",\n",
       "  \"x = 100\\ny = [10, 20, 30]\\nz = {'a':1, 'b':2}\\n\\ns = f'x = {x}, y = {y}, z = {z}'\",\n",
       "  'print(s)',\n",
       "  \"d = {'a':1, 'b':200, 'cdefg': 3, 'hijklmn': 45678}\\n\\nfor key, value in d.items():\\n    print(f'{key}: {value}')\",\n",
       "  \"for key, value in d.items():\\n    print(f'{key:8}: {value:8}')\",\n",
       "  \"for key, value in d.items():\\n    print(f'{key:8}{value:8}')\",\n",
       "  \"for key, value in d.items():\\n    print(f'{key:.<8}{value:*>8}')\",\n",
       "  \"for key, value in d.items():\\n    print(f'{key:.>8}{value:*<8}')\",\n",
       "  \"for key, value in d.items():\\n    print(f'{key:.>8} {value:*<8}')\",\n",
       "  \"f = 123456.7890123\\n\\nprint(f'The number is {f}.')\",\n",
       "  \"print(f'The number is {f:4.2}.')\",\n",
       "  \"print(f'The number is {f:4.5}.')\",\n",
       "  \"print(f'The number is {f:6.5}.')\",\n",
       "  'x',\n",
       "  'y',\n",
       "  'z',\n",
       "  \"print(f'x = {x}, y = {y}, z = {z}')\",\n",
       "  \"# From Python 3.8, we can do this:\\n\\nprint(f'{x=}, {y=}, {z=}')\",\n",
       "  'mylist = [10, 20, 30, 40, 50]',\n",
       "  'type(mylist)',\n",
       "  'mylist.append(60)\\nmylist',\n",
       "  \"mylist = []\\nfor i in range(30):\\n    print(f'{i}: len(mylist) = {len(mylist)}, sys.getsizeof(mylist) = {sys.getsizeof(mylist)}')\\n    mylist.append(i)\",\n",
       "  \"mylist = []\\nfor i in range(60):\\n    print(f'{i}: len(mylist) = {len(mylist)}, sys.getsizeof(mylist) = {sys.getsizeof(mylist)}')\\n    mylist.append(i)\",\n",
       "  '[1] * 100',\n",
       "  '# sequence -- string, list, tuple\\n\\nt = (10, 20, 30, 40, 50)\\ntype(t)',\n",
       "  '# no parens needed!\\nt = 10, 20, 30, 40, 50\\n\\nt',\n",
       "  'type(t)',\n",
       "  't = ([10, 20, 30],\\n     [100, 200,300, 400, 500])\\n\\nt',\n",
       "  \"t[0] = '!'\",\n",
       "  't[0].append(40)\\nt',\n",
       "  \"p = ('Reuven', 'Lerner', 46)\\np\",\n",
       "  'p[0]',\n",
       "  '[1]',\n",
       "  'p[1]',\n",
       "  'p[2]',\n",
       "  '# named tuples',\n",
       "  \"from collections import namedtuple\\n\\nPerson = namedtuple('Person', ['first', 'last', 'shoesize'])\",\n",
       "  'class Foo:\\n    pass',\n",
       "  'Foo.__name__',\n",
       "  \"Person = namedtuple('Person', ['first', 'last', 'shoesize'])\",\n",
       "  'Person.__name__',\n",
       "  \"Person = namedtuple('Person',\\n                    ['first', 'last', 'shoesize'])\",\n",
       "  'Person.__name__',\n",
       "  \"p = Person('Reuven', 'Lerner', 46)\",\n",
       "  'p',\n",
       "  'p[0]',\n",
       "  'p[1]',\n",
       "  'p[2]',\n",
       "  'p.first',\n",
       "  'p.last',\n",
       "  'p.shoesize',\n",
       "  'type(Person)',\n",
       "  'type(Person)',\n",
       "  \"p1 = Person('first1', 'last1', 1)\\np2 = Person('first2', 'last2', 2)\",\n",
       "  'p1',\n",
       "  'p2',\n",
       "  'type(p1)',\n",
       "  'type(p2)',\n",
       "  'p1.first',\n",
       "  \"p1.first = 'asdfafafa'\",\n",
       "  \"p1._replace(first='zzzzz')\",\n",
       "  \"p1 = p1._replace(first='zzzzz')\\np1\",\n",
       "  't',\n",
       "  't[0].append(50)\\nt',\n",
       "  't[0] += [60, 70, 80]',\n",
       "  't',\n",
       "  't[0].extend([90, 91, 92])\\nt',\n",
       "  '# tuple with 1 element\\nt = (10,)  \\ntype(t)',\n",
       "  't = (10)\\ntype(t)',\n",
       "  \"from collections import namedtuple\\n\\nBook = namedtuple('Book', ['title', 'author', 'price'])\\n\\nb1 = Book('title1', 'author1', 50)\\nb2 = Book('title2', 'author1', 100)\\nb3 = Book('title3', 'author2', 200)\\n\\nall_books = [b1, b2, b3]\\n\\nall_books\",\n",
       "  \"total = 0\\n\\nwhile True:\\n    s = input('Enter book title: ').strip()\\n    \\n    if not s:    # if s is empty, then exit from the loop\\n        break\\n        \\n    for one_book in all_books:\\n        if one_book.title == s:\\n            print(f'Found {s} by {one_book.author}, price {one_book.price}')\\n            total += one_book.price\\n            break\\n            \\nprint(f'Total is {total}')\",\n",
       "  \"total = 0\\n\\nwhile True:\\n    s = input('Enter book title: ').strip()\\n    \\n    if not s:    # if s is empty, then exit from the loop\\n        break\\n        \\n    for one_book in all_books:\\n        if one_book.title == s:\\n            print(f'Found {s} by {one_book.author}, price {one_book.price}')\\n            total += one_book.price\\n            break\\n            \\nprint(f'Total is {total}')\",\n",
       "  \"total = 0\\n\\nwhile True:\\n    s = input('Enter book title: ').strip()\\n    \\n    if not s:    # if s is empty, then exit from the loop\\n        break\\n        \\n    found_book = False\\n    for one_book in all_books:\\n        if one_book.title == s:\\n            print(f'Found {s} by {one_book.author}, price {one_book.price}')\\n            total += one_book.price\\n            found_book = True\\n            break\\n            \\n    if not found_book:\\n        print(f'Did not find {s}')\\n            \\nprint(f'Total is {total}')\",\n",
       "  \"total = 0\\n\\nwhile True:\\n    s = input('Enter book title: ').strip()\\n    \\n    if not s:    # if s is empty, then exit from the loop\\n        break\\n        \\n    for one_book in all_books:\\n        if one_book.title == s:\\n            print(f'Found {s} by {one_book.author}, price {one_book.price}')\\n            total += one_book.price\\n            break\\n            \\n    else:    # got_to_end_of_loop_without_encountering_a_break\\n        print(f'Did not find {s}')\\n            \\nprint(f'Total is {total}')\",\n",
       "  \"total = 0\\n\\nwhile s = input('Enter book title: ').strip():\\n    \\n    for one_book in all_books:\\n        if one_book.title == s:\\n            print(f'Found {s} by {one_book.author}, price {one_book.price}')\\n            total += one_book.price\\n            break\\n            \\n    else:    # got_to_end_of_loop_without_encountering_a_break\\n        print(f'Did not find {s}')\\n            \\nprint(f'Total is {total}')\",\n",
       "  'total = 0\\n\\n# := \"assignment expression\"\\n# \"walrus\"\\n\\nwhile s := input(\\'Enter book title: \\').strip():\\n    \\n    for one_book in all_books:\\n        if one_book.title == s:\\n            print(f\\'Found {s} by {one_book.author}, price {one_book.price}\\')\\n            total += one_book.price\\n            break\\n            \\n    else:    # got_to_end_of_loop_without_encountering_a_break\\n        print(f\\'Did not find {s}\\')\\n            \\nprint(f\\'Total is {total}\\')',\n",
       "  'x := 5',\n",
       "  'if x := 5:\\n   print(x)',\n",
       "  \"print(f'{b1=}, {b2=}, {b3=}')\",\n",
       "  '# unpacking\\nmylist = [10, 20, 30]\\n\\nx,y,z = mylist',\n",
       "  \"print(f'{x=}, {y=}, {z=}')\",\n",
       "  'title, author, price = b1',\n",
       "  'title',\n",
       "  'author',\n",
       "  'price',\n",
       "  'total = 0\\n\\n# := \"assignment expression\"\\n# \"walrus\"\\n# starting with Python 3.8\\n\\nwhile s := input(\\'Enter book title: \\').strip():\\n    \\n    for title, author, price in all_books:\\n        if title == s:\\n            print(f\\'Found {s} by {author}, price {price}\\')\\n            total += price\\n            break\\n            \\n    else:    # got_to_end_of_loop_without_encountering_a_break\\n        print(f\\'Did not find {s}\\')\\n            \\nprint(f\\'Total is {total}\\')',\n",
       "  'mylist = [10, 20, 30, 40, 50, 60]\\n\\nx,y,z = mylist',\n",
       "  'x, *y, z = mylist',\n",
       "  'x',\n",
       "  'z',\n",
       "  'y',\n",
       "  'x,y,*z = mylist',\n",
       "  'z',\n",
       "  'x',\n",
       "  'y',\n",
       "  \"d = {'a':1, 'b':2, 'c':3}\",\n",
       "  '# keys must be immutable -- typically, int, float, or string\\n# values can be anything at all',\n",
       "  'globals()'],\n",
       " '_oh': {1: int,\n",
       "  2: float,\n",
       "  3: 0.30000000000000004,\n",
       "  4: False,\n",
       "  5: 0.3,\n",
       "  6: True,\n",
       "  8: 123,\n",
       "  9: Decimal('0.3'),\n",
       "  10: 0.3,\n",
       "  12: 104,\n",
       "  13: 104,\n",
       "  14: 24,\n",
       "  15: Decimal('0.3000000000000000166533453694'),\n",
       "  16: Decimal('0.1000000000000000055511151231257827021181583404541015625'),\n",
       "  17: Decimal('0.200000000000000011102230246251565404236316680908203125'),\n",
       "  18: 0.3333333333333333,\n",
       "  20: True,\n",
       "  21: False,\n",
       "  22: True,\n",
       "  23: '0.1 + 0.2 = 0.30000000000000004',\n",
       "  24: '0.1 + 0.2 = 0.3',\n",
       "  25: True,\n",
       "  26: True,\n",
       "  27: True,\n",
       "  28: False,\n",
       "  29: True,\n",
       "  30: False,\n",
       "  32: {...},\n",
       "  33: 100,\n",
       "  34: [10, 20, 30],\n",
       "  35: 987,\n",
       "  38: True,\n",
       "  39: False,\n",
       "  41: False,\n",
       "  42: <function sys.intern(string, /)>,\n",
       "  44: True,\n",
       "  59: 100,\n",
       "  60: [10, 20, 30],\n",
       "  61: {'a': 1, 'b': 2},\n",
       "  65: list,\n",
       "  66: [10, 20, 30, 40, 50, 60],\n",
       "  69: [1,\n",
       "   1,\n",
       "   1,\n",
       "   1,\n",
       "   1,\n",
       "   1,\n",
       "   1,\n",
       "   1,\n",
       "   1,\n",
       "   1,\n",
       "   1,\n",
       "   1,\n",
       "   1,\n",
       "   1,\n",
       "   1,\n",
       "   1,\n",
       "   1,\n",
       "   1,\n",
       "   1,\n",
       "   1,\n",
       "   1,\n",
       "   1,\n",
       "   1,\n",
       "   1,\n",
       "   1,\n",
       "   1,\n",
       "   1,\n",
       "   1,\n",
       "   1,\n",
       "   1,\n",
       "   1,\n",
       "   1,\n",
       "   1,\n",
       "   1,\n",
       "   1,\n",
       "   1,\n",
       "   1,\n",
       "   1,\n",
       "   1,\n",
       "   1,\n",
       "   1,\n",
       "   1,\n",
       "   1,\n",
       "   1,\n",
       "   1,\n",
       "   1,\n",
       "   1,\n",
       "   1,\n",
       "   1,\n",
       "   1,\n",
       "   1,\n",
       "   1,\n",
       "   1,\n",
       "   1,\n",
       "   1,\n",
       "   1,\n",
       "   1,\n",
       "   1,\n",
       "   1,\n",
       "   1,\n",
       "   1,\n",
       "   1,\n",
       "   1,\n",
       "   1,\n",
       "   1,\n",
       "   1,\n",
       "   1,\n",
       "   1,\n",
       "   1,\n",
       "   1,\n",
       "   1,\n",
       "   1,\n",
       "   1,\n",
       "   1,\n",
       "   1,\n",
       "   1,\n",
       "   1,\n",
       "   1,\n",
       "   1,\n",
       "   1,\n",
       "   1,\n",
       "   1,\n",
       "   1,\n",
       "   1,\n",
       "   1,\n",
       "   1,\n",
       "   1,\n",
       "   1,\n",
       "   1,\n",
       "   1,\n",
       "   1,\n",
       "   1,\n",
       "   1,\n",
       "   1,\n",
       "   1,\n",
       "   1,\n",
       "   1,\n",
       "   1,\n",
       "   1,\n",
       "   1],\n",
       "  70: tuple,\n",
       "  71: (10, 20, 30, 40, 50),\n",
       "  72: tuple,\n",
       "  73: ([10, 20, 30, 40, 50, 60, 70, 80, 90, 91, 92],\n",
       "   [100, 200, 300, 400, 500]),\n",
       "  75: ([10, 20, 30, 40, 50, 60, 70, 80, 90, 91, 92],\n",
       "   [100, 200, 300, 400, 500]),\n",
       "  76: ('Reuven', 'Lerner', 46),\n",
       "  77: 'Reuven',\n",
       "  78: [1],\n",
       "  79: 'Lerner',\n",
       "  80: 46,\n",
       "  84: 'Foo',\n",
       "  86: 'Person',\n",
       "  88: 'Person',\n",
       "  90: Person(first='Reuven', last='Lerner', shoesize=46),\n",
       "  91: 'Reuven',\n",
       "  92: 'Lerner',\n",
       "  93: 46,\n",
       "  94: 'Reuven',\n",
       "  95: 'Lerner',\n",
       "  96: 46,\n",
       "  97: type,\n",
       "  98: type,\n",
       "  100: Person(first='first1', last='last1', shoesize=1),\n",
       "  101: Person(first='first2', last='last2', shoesize=2),\n",
       "  102: __main__.Person,\n",
       "  103: __main__.Person,\n",
       "  104: 'first1',\n",
       "  106: Person(first='zzzzz', last='last1', shoesize=1),\n",
       "  107: Person(first='zzzzz', last='last1', shoesize=1),\n",
       "  108: ([10, 20, 30, 40, 50, 60, 70, 80, 90, 91, 92],\n",
       "   [100, 200, 300, 400, 500]),\n",
       "  109: ([10, 20, 30, 40, 50, 60, 70, 80, 90, 91, 92],\n",
       "   [100, 200, 300, 400, 500]),\n",
       "  111: ([10, 20, 30, 40, 50, 60, 70, 80, 90, 91, 92],\n",
       "   [100, 200, 300, 400, 500]),\n",
       "  112: ([10, 20, 30, 40, 50, 60, 70, 80, 90, 91, 92],\n",
       "   [100, 200, 300, 400, 500]),\n",
       "  113: tuple,\n",
       "  114: int,\n",
       "  115: [Book(title='title1', author='author1', price=50),\n",
       "   Book(title='title2', author='author1', price=100),\n",
       "   Book(title='title3', author='author2', price=200)],\n",
       "  128: 'title1',\n",
       "  129: 'author1',\n",
       "  130: 50,\n",
       "  134: 10,\n",
       "  135: 60,\n",
       "  136: [20, 30, 40, 50],\n",
       "  138: [30, 40, 50, 60],\n",
       "  139: 10,\n",
       "  140: 20},\n",
       " '_dh': ['/Users/reuven/Consulting/Courses/Python/Current/wdc-2021-jan-advanced-python'],\n",
       " 'In': ['',\n",
       "  'a = 1\\ntype(a)',\n",
       "  'a = 1.0\\ntype(a)',\n",
       "  '0.1 + 0.2',\n",
       "  '0.1 + 0.2 == 0.3',\n",
       "  'round(0.1 + 0.2, 2)',\n",
       "  'round(0.1 + 0.2, 2) == 0.3',\n",
       "  '# BCD -- binary coded decimals',\n",
       "  '123   # 0b1 0b2 0b3',\n",
       "  \"from decimal import Decimal \\n\\na = Decimal('0.1')\\nb = Decimal('0.2')\\n\\na + b\",\n",
       "  'float(a+b)',\n",
       "  'sys.getsizeof(a)',\n",
       "  'import sys\\nsys.getsizeof(a)',\n",
       "  'sys.getsizeof(b)',\n",
       "  'sys.getsizeof(0.1)',\n",
       "  'a = Decimal(0.1)\\nb = Decimal(0.2)\\n\\na + b',\n",
       "  'a',\n",
       "  'b',\n",
       "  '1/3',\n",
       "  'from math import isclose',\n",
       "  'isclose(0.1+0.2, 0.3)',\n",
       "  'isclose(0.1+0.2, 0.3, rel_tol=0.000000000000000001)',\n",
       "  'isclose(0.1+0.2, 0.3, rel_tol=0.1)',\n",
       "  \"x = 0.1\\ny = 0.2\\n\\nf'{x} + {y} = {x+y}'\",\n",
       "  \"x = 0.1\\ny = 0.2\\n\\nf'{x} + {y} = {x+y:0.2}'\",\n",
       "  \"x = 'abcd'\\ny = 'abcd' \\n\\nx == y\",\n",
       "  'x is y',\n",
       "  \"x = 'abcd' * 5000\\ny = 'abcd' * 5000\\n\\nx == y\",\n",
       "  'x is y',\n",
       "  \"x = 'ab.cd'\\ny = 'ab.cd'\\n\\nx == y\",\n",
       "  'x is y',\n",
       "  'a = 100\\nb = [10, 20, 30]',\n",
       "  'globals() ',\n",
       "  \"globals()['a']\",\n",
       "  \"globals()['b']\",\n",
       "  \"globals()['a'] = 987\\n\\na\",\n",
       "  'print(a)',\n",
       "  '# interning -- cache of string',\n",
       "  \"x = 'abcde'   \\ny = 'abcde'\\n\\nx is y\",\n",
       "  \"x = 'abcde' * 2000\\ny = 'abcde' * 2000\\n\\nx is y\",\n",
       "  \"x = 'ab.cd'\\ny = 'ab.cd'\",\n",
       "  'x is y',\n",
       "  'sys.intern',\n",
       "  \"x = sys.intern('ab.cde')\\ny = sys.intern('ab.cde')\",\n",
       "  'x is y',\n",
       "  \"for i in range(5):\\n    print(x)   # print(globals()['x'])\",\n",
       "  \"# f-string\\n# str.format\\n# str % ('a', 'b')  -- printf-ish\",\n",
       "  \"x = 100\\ny = [10, 20, 30]\\nz = {'a':1, 'b':2}\\n\\ns = f'x = {x}, y = {y}, z = {z}'\",\n",
       "  'print(s)',\n",
       "  \"d = {'a':1, 'b':200, 'cdefg': 3, 'hijklmn': 45678}\\n\\nfor key, value in d.items():\\n    print(f'{key}: {value}')\",\n",
       "  \"for key, value in d.items():\\n    print(f'{key:8}: {value:8}')\",\n",
       "  \"for key, value in d.items():\\n    print(f'{key:8}{value:8}')\",\n",
       "  \"for key, value in d.items():\\n    print(f'{key:.<8}{value:*>8}')\",\n",
       "  \"for key, value in d.items():\\n    print(f'{key:.>8}{value:*<8}')\",\n",
       "  \"for key, value in d.items():\\n    print(f'{key:.>8} {value:*<8}')\",\n",
       "  \"f = 123456.7890123\\n\\nprint(f'The number is {f}.')\",\n",
       "  \"print(f'The number is {f:4.2}.')\",\n",
       "  \"print(f'The number is {f:4.5}.')\",\n",
       "  \"print(f'The number is {f:6.5}.')\",\n",
       "  'x',\n",
       "  'y',\n",
       "  'z',\n",
       "  \"print(f'x = {x}, y = {y}, z = {z}')\",\n",
       "  \"# From Python 3.8, we can do this:\\n\\nprint(f'{x=}, {y=}, {z=}')\",\n",
       "  'mylist = [10, 20, 30, 40, 50]',\n",
       "  'type(mylist)',\n",
       "  'mylist.append(60)\\nmylist',\n",
       "  \"mylist = []\\nfor i in range(30):\\n    print(f'{i}: len(mylist) = {len(mylist)}, sys.getsizeof(mylist) = {sys.getsizeof(mylist)}')\\n    mylist.append(i)\",\n",
       "  \"mylist = []\\nfor i in range(60):\\n    print(f'{i}: len(mylist) = {len(mylist)}, sys.getsizeof(mylist) = {sys.getsizeof(mylist)}')\\n    mylist.append(i)\",\n",
       "  '[1] * 100',\n",
       "  '# sequence -- string, list, tuple\\n\\nt = (10, 20, 30, 40, 50)\\ntype(t)',\n",
       "  '# no parens needed!\\nt = 10, 20, 30, 40, 50\\n\\nt',\n",
       "  'type(t)',\n",
       "  't = ([10, 20, 30],\\n     [100, 200,300, 400, 500])\\n\\nt',\n",
       "  \"t[0] = '!'\",\n",
       "  't[0].append(40)\\nt',\n",
       "  \"p = ('Reuven', 'Lerner', 46)\\np\",\n",
       "  'p[0]',\n",
       "  '[1]',\n",
       "  'p[1]',\n",
       "  'p[2]',\n",
       "  '# named tuples',\n",
       "  \"from collections import namedtuple\\n\\nPerson = namedtuple('Person', ['first', 'last', 'shoesize'])\",\n",
       "  'class Foo:\\n    pass',\n",
       "  'Foo.__name__',\n",
       "  \"Person = namedtuple('Person', ['first', 'last', 'shoesize'])\",\n",
       "  'Person.__name__',\n",
       "  \"Person = namedtuple('Person',\\n                    ['first', 'last', 'shoesize'])\",\n",
       "  'Person.__name__',\n",
       "  \"p = Person('Reuven', 'Lerner', 46)\",\n",
       "  'p',\n",
       "  'p[0]',\n",
       "  'p[1]',\n",
       "  'p[2]',\n",
       "  'p.first',\n",
       "  'p.last',\n",
       "  'p.shoesize',\n",
       "  'type(Person)',\n",
       "  'type(Person)',\n",
       "  \"p1 = Person('first1', 'last1', 1)\\np2 = Person('first2', 'last2', 2)\",\n",
       "  'p1',\n",
       "  'p2',\n",
       "  'type(p1)',\n",
       "  'type(p2)',\n",
       "  'p1.first',\n",
       "  \"p1.first = 'asdfafafa'\",\n",
       "  \"p1._replace(first='zzzzz')\",\n",
       "  \"p1 = p1._replace(first='zzzzz')\\np1\",\n",
       "  't',\n",
       "  't[0].append(50)\\nt',\n",
       "  't[0] += [60, 70, 80]',\n",
       "  't',\n",
       "  't[0].extend([90, 91, 92])\\nt',\n",
       "  '# tuple with 1 element\\nt = (10,)  \\ntype(t)',\n",
       "  't = (10)\\ntype(t)',\n",
       "  \"from collections import namedtuple\\n\\nBook = namedtuple('Book', ['title', 'author', 'price'])\\n\\nb1 = Book('title1', 'author1', 50)\\nb2 = Book('title2', 'author1', 100)\\nb3 = Book('title3', 'author2', 200)\\n\\nall_books = [b1, b2, b3]\\n\\nall_books\",\n",
       "  \"total = 0\\n\\nwhile True:\\n    s = input('Enter book title: ').strip()\\n    \\n    if not s:    # if s is empty, then exit from the loop\\n        break\\n        \\n    for one_book in all_books:\\n        if one_book.title == s:\\n            print(f'Found {s} by {one_book.author}, price {one_book.price}')\\n            total += one_book.price\\n            break\\n            \\nprint(f'Total is {total}')\",\n",
       "  \"total = 0\\n\\nwhile True:\\n    s = input('Enter book title: ').strip()\\n    \\n    if not s:    # if s is empty, then exit from the loop\\n        break\\n        \\n    for one_book in all_books:\\n        if one_book.title == s:\\n            print(f'Found {s} by {one_book.author}, price {one_book.price}')\\n            total += one_book.price\\n            break\\n            \\nprint(f'Total is {total}')\",\n",
       "  \"total = 0\\n\\nwhile True:\\n    s = input('Enter book title: ').strip()\\n    \\n    if not s:    # if s is empty, then exit from the loop\\n        break\\n        \\n    found_book = False\\n    for one_book in all_books:\\n        if one_book.title == s:\\n            print(f'Found {s} by {one_book.author}, price {one_book.price}')\\n            total += one_book.price\\n            found_book = True\\n            break\\n            \\n    if not found_book:\\n        print(f'Did not find {s}')\\n            \\nprint(f'Total is {total}')\",\n",
       "  \"total = 0\\n\\nwhile True:\\n    s = input('Enter book title: ').strip()\\n    \\n    if not s:    # if s is empty, then exit from the loop\\n        break\\n        \\n    for one_book in all_books:\\n        if one_book.title == s:\\n            print(f'Found {s} by {one_book.author}, price {one_book.price}')\\n            total += one_book.price\\n            break\\n            \\n    else:    # got_to_end_of_loop_without_encountering_a_break\\n        print(f'Did not find {s}')\\n            \\nprint(f'Total is {total}')\",\n",
       "  \"total = 0\\n\\nwhile s = input('Enter book title: ').strip():\\n    \\n    for one_book in all_books:\\n        if one_book.title == s:\\n            print(f'Found {s} by {one_book.author}, price {one_book.price}')\\n            total += one_book.price\\n            break\\n            \\n    else:    # got_to_end_of_loop_without_encountering_a_break\\n        print(f'Did not find {s}')\\n            \\nprint(f'Total is {total}')\",\n",
       "  'total = 0\\n\\n# := \"assignment expression\"\\n# \"walrus\"\\n\\nwhile s := input(\\'Enter book title: \\').strip():\\n    \\n    for one_book in all_books:\\n        if one_book.title == s:\\n            print(f\\'Found {s} by {one_book.author}, price {one_book.price}\\')\\n            total += one_book.price\\n            break\\n            \\n    else:    # got_to_end_of_loop_without_encountering_a_break\\n        print(f\\'Did not find {s}\\')\\n            \\nprint(f\\'Total is {total}\\')',\n",
       "  'x := 5',\n",
       "  'if x := 5:\\n   print(x)',\n",
       "  \"print(f'{b1=}, {b2=}, {b3=}')\",\n",
       "  '# unpacking\\nmylist = [10, 20, 30]\\n\\nx,y,z = mylist',\n",
       "  \"print(f'{x=}, {y=}, {z=}')\",\n",
       "  'title, author, price = b1',\n",
       "  'title',\n",
       "  'author',\n",
       "  'price',\n",
       "  'total = 0\\n\\n# := \"assignment expression\"\\n# \"walrus\"\\n# starting with Python 3.8\\n\\nwhile s := input(\\'Enter book title: \\').strip():\\n    \\n    for title, author, price in all_books:\\n        if title == s:\\n            print(f\\'Found {s} by {author}, price {price}\\')\\n            total += price\\n            break\\n            \\n    else:    # got_to_end_of_loop_without_encountering_a_break\\n        print(f\\'Did not find {s}\\')\\n            \\nprint(f\\'Total is {total}\\')',\n",
       "  'mylist = [10, 20, 30, 40, 50, 60]\\n\\nx,y,z = mylist',\n",
       "  'x, *y, z = mylist',\n",
       "  'x',\n",
       "  'z',\n",
       "  'y',\n",
       "  'x,y,*z = mylist',\n",
       "  'z',\n",
       "  'x',\n",
       "  'y',\n",
       "  \"d = {'a':1, 'b':2, 'c':3}\",\n",
       "  '# keys must be immutable -- typically, int, float, or string\\n# values can be anything at all',\n",
       "  'globals()'],\n",
       " 'Out': {1: int,\n",
       "  2: float,\n",
       "  3: 0.30000000000000004,\n",
       "  4: False,\n",
       "  5: 0.3,\n",
       "  6: True,\n",
       "  8: 123,\n",
       "  9: Decimal('0.3'),\n",
       "  10: 0.3,\n",
       "  12: 104,\n",
       "  13: 104,\n",
       "  14: 24,\n",
       "  15: Decimal('0.3000000000000000166533453694'),\n",
       "  16: Decimal('0.1000000000000000055511151231257827021181583404541015625'),\n",
       "  17: Decimal('0.200000000000000011102230246251565404236316680908203125'),\n",
       "  18: 0.3333333333333333,\n",
       "  20: True,\n",
       "  21: False,\n",
       "  22: True,\n",
       "  23: '0.1 + 0.2 = 0.30000000000000004',\n",
       "  24: '0.1 + 0.2 = 0.3',\n",
       "  25: True,\n",
       "  26: True,\n",
       "  27: True,\n",
       "  28: False,\n",
       "  29: True,\n",
       "  30: False,\n",
       "  32: {...},\n",
       "  33: 100,\n",
       "  34: [10, 20, 30],\n",
       "  35: 987,\n",
       "  38: True,\n",
       "  39: False,\n",
       "  41: False,\n",
       "  42: <function sys.intern(string, /)>,\n",
       "  44: True,\n",
       "  59: 100,\n",
       "  60: [10, 20, 30],\n",
       "  61: {'a': 1, 'b': 2},\n",
       "  65: list,\n",
       "  66: [10, 20, 30, 40, 50, 60],\n",
       "  69: [1,\n",
       "   1,\n",
       "   1,\n",
       "   1,\n",
       "   1,\n",
       "   1,\n",
       "   1,\n",
       "   1,\n",
       "   1,\n",
       "   1,\n",
       "   1,\n",
       "   1,\n",
       "   1,\n",
       "   1,\n",
       "   1,\n",
       "   1,\n",
       "   1,\n",
       "   1,\n",
       "   1,\n",
       "   1,\n",
       "   1,\n",
       "   1,\n",
       "   1,\n",
       "   1,\n",
       "   1,\n",
       "   1,\n",
       "   1,\n",
       "   1,\n",
       "   1,\n",
       "   1,\n",
       "   1,\n",
       "   1,\n",
       "   1,\n",
       "   1,\n",
       "   1,\n",
       "   1,\n",
       "   1,\n",
       "   1,\n",
       "   1,\n",
       "   1,\n",
       "   1,\n",
       "   1,\n",
       "   1,\n",
       "   1,\n",
       "   1,\n",
       "   1,\n",
       "   1,\n",
       "   1,\n",
       "   1,\n",
       "   1,\n",
       "   1,\n",
       "   1,\n",
       "   1,\n",
       "   1,\n",
       "   1,\n",
       "   1,\n",
       "   1,\n",
       "   1,\n",
       "   1,\n",
       "   1,\n",
       "   1,\n",
       "   1,\n",
       "   1,\n",
       "   1,\n",
       "   1,\n",
       "   1,\n",
       "   1,\n",
       "   1,\n",
       "   1,\n",
       "   1,\n",
       "   1,\n",
       "   1,\n",
       "   1,\n",
       "   1,\n",
       "   1,\n",
       "   1,\n",
       "   1,\n",
       "   1,\n",
       "   1,\n",
       "   1,\n",
       "   1,\n",
       "   1,\n",
       "   1,\n",
       "   1,\n",
       "   1,\n",
       "   1,\n",
       "   1,\n",
       "   1,\n",
       "   1,\n",
       "   1,\n",
       "   1,\n",
       "   1,\n",
       "   1,\n",
       "   1,\n",
       "   1,\n",
       "   1,\n",
       "   1,\n",
       "   1,\n",
       "   1,\n",
       "   1],\n",
       "  70: tuple,\n",
       "  71: (10, 20, 30, 40, 50),\n",
       "  72: tuple,\n",
       "  73: ([10, 20, 30, 40, 50, 60, 70, 80, 90, 91, 92],\n",
       "   [100, 200, 300, 400, 500]),\n",
       "  75: ([10, 20, 30, 40, 50, 60, 70, 80, 90, 91, 92],\n",
       "   [100, 200, 300, 400, 500]),\n",
       "  76: ('Reuven', 'Lerner', 46),\n",
       "  77: 'Reuven',\n",
       "  78: [1],\n",
       "  79: 'Lerner',\n",
       "  80: 46,\n",
       "  84: 'Foo',\n",
       "  86: 'Person',\n",
       "  88: 'Person',\n",
       "  90: Person(first='Reuven', last='Lerner', shoesize=46),\n",
       "  91: 'Reuven',\n",
       "  92: 'Lerner',\n",
       "  93: 46,\n",
       "  94: 'Reuven',\n",
       "  95: 'Lerner',\n",
       "  96: 46,\n",
       "  97: type,\n",
       "  98: type,\n",
       "  100: Person(first='first1', last='last1', shoesize=1),\n",
       "  101: Person(first='first2', last='last2', shoesize=2),\n",
       "  102: __main__.Person,\n",
       "  103: __main__.Person,\n",
       "  104: 'first1',\n",
       "  106: Person(first='zzzzz', last='last1', shoesize=1),\n",
       "  107: Person(first='zzzzz', last='last1', shoesize=1),\n",
       "  108: ([10, 20, 30, 40, 50, 60, 70, 80, 90, 91, 92],\n",
       "   [100, 200, 300, 400, 500]),\n",
       "  109: ([10, 20, 30, 40, 50, 60, 70, 80, 90, 91, 92],\n",
       "   [100, 200, 300, 400, 500]),\n",
       "  111: ([10, 20, 30, 40, 50, 60, 70, 80, 90, 91, 92],\n",
       "   [100, 200, 300, 400, 500]),\n",
       "  112: ([10, 20, 30, 40, 50, 60, 70, 80, 90, 91, 92],\n",
       "   [100, 200, 300, 400, 500]),\n",
       "  113: tuple,\n",
       "  114: int,\n",
       "  115: [Book(title='title1', author='author1', price=50),\n",
       "   Book(title='title2', author='author1', price=100),\n",
       "   Book(title='title3', author='author2', price=200)],\n",
       "  128: 'title1',\n",
       "  129: 'author1',\n",
       "  130: 50,\n",
       "  134: 10,\n",
       "  135: 60,\n",
       "  136: [20, 30, 40, 50],\n",
       "  138: [30, 40, 50, 60],\n",
       "  139: 10,\n",
       "  140: 20},\n",
       " 'get_ipython': <bound method InteractiveShell.get_ipython of <ipykernel.zmqshell.ZMQInteractiveShell object at 0x10e852d90>>,\n",
       " 'exit': <IPython.core.autocall.ZMQExitAutocall at 0x10e955220>,\n",
       " 'quit': <IPython.core.autocall.ZMQExitAutocall at 0x10e955220>,\n",
       " '_': 20,\n",
       " '__': 10,\n",
       " '___': [30, 40, 50, 60],\n",
       " '_i': '# keys must be immutable -- typically, int, float, or string\\n# values can be anything at all',\n",
       " '_ii': \"d = {'a':1, 'b':2, 'c':3}\",\n",
       " '_iii': 'y',\n",
       " '_i1': 'a = 1\\ntype(a)',\n",
       " 'a': 987,\n",
       " '_1': int,\n",
       " '_i2': 'a = 1.0\\ntype(a)',\n",
       " '_2': float,\n",
       " '_i3': '0.1 + 0.2',\n",
       " '_3': 0.30000000000000004,\n",
       " '_i4': '0.1 + 0.2 == 0.3',\n",
       " '_4': False,\n",
       " '_i5': 'round(0.1 + 0.2, 2)',\n",
       " '_5': 0.3,\n",
       " '_i6': 'round(0.1 + 0.2, 2) == 0.3',\n",
       " '_6': True,\n",
       " '_i7': '# BCD -- binary coded decimals',\n",
       " '_i8': '123   # 0b1 0b2 0b3',\n",
       " '_8': 123,\n",
       " '_i9': \"from decimal import Decimal \\n\\na = Decimal('0.1')\\nb = Decimal('0.2')\\n\\na + b\",\n",
       " 'Decimal': decimal.Decimal,\n",
       " 'b': [10, 20, 30],\n",
       " '_9': Decimal('0.3'),\n",
       " '_i10': 'float(a+b)',\n",
       " '_10': 0.3,\n",
       " '_i11': 'sys.getsizeof(a)',\n",
       " '_i12': 'import sys\\nsys.getsizeof(a)',\n",
       " 'sys': <module 'sys' (built-in)>,\n",
       " '_12': 104,\n",
       " '_i13': 'sys.getsizeof(b)',\n",
       " '_13': 104,\n",
       " '_i14': 'sys.getsizeof(0.1)',\n",
       " '_14': 24,\n",
       " '_i15': '\\na = Decimal(0.1)\\nb = Decimal(0.2)\\n\\na + b',\n",
       " '_15': Decimal('0.3000000000000000166533453694'),\n",
       " '_i16': 'a',\n",
       " '_16': Decimal('0.1000000000000000055511151231257827021181583404541015625'),\n",
       " '_i17': 'b',\n",
       " '_17': Decimal('0.200000000000000011102230246251565404236316680908203125'),\n",
       " '_i18': '1/3',\n",
       " '_18': 0.3333333333333333,\n",
       " '_i19': 'from math import isclose',\n",
       " 'isclose': <function math.isclose(a, b, *, rel_tol=1e-09, abs_tol=0.0)>,\n",
       " '_i20': 'isclose(0.1+0.2, 0.3)',\n",
       " '_20': True,\n",
       " '_i21': 'isclose(0.1+0.2, 0.3, rel_tol=0.000000000000000001)',\n",
       " '_21': False,\n",
       " '_i22': 'isclose(0.1+0.2, 0.3, rel_tol=0.1)',\n",
       " '_22': True,\n",
       " '_i23': \"x = 0.1\\ny = 0.2\\n\\nf'{x} + {y} = {x+y}'\",\n",
       " 'x': 10,\n",
       " 'y': 20,\n",
       " '_23': '0.1 + 0.2 = 0.30000000000000004',\n",
       " '_i24': \"x = 0.1\\ny = 0.2\\n\\nf'{x} + {y} = {x+y:0.2}'\",\n",
       " '_24': '0.1 + 0.2 = 0.3',\n",
       " '_i25': \"x = 'abcd'\\ny = 'abcd' \\n\\nx == y\",\n",
       " '_25': True,\n",
       " '_i26': 'x is y',\n",
       " '_26': True,\n",
       " '_i27': \"x = 'abcd' * 5000\\ny = 'abcd' * 5000\\n\\nx == y\",\n",
       " '_27': True,\n",
       " '_i28': 'x is y',\n",
       " '_28': False,\n",
       " '_i29': \"x = 'ab.cd'\\ny = 'ab.cd'\\n\\nx == y\",\n",
       " '_29': True,\n",
       " '_i30': 'x is y',\n",
       " '_30': False,\n",
       " '_i31': 'a = 100\\nb = [10, 20, 30]',\n",
       " '_i32': 'globals() ',\n",
       " '_32': {...},\n",
       " '_i33': \"globals()['a']\",\n",
       " '_33': 100,\n",
       " '_i34': \"globals()['b']\",\n",
       " '_34': [10, 20, 30],\n",
       " '_i35': \"globals()['a'] = 987\\n\\na\",\n",
       " '_35': 987,\n",
       " '_i36': 'print(a)',\n",
       " '_i37': '# interning -- cache of string',\n",
       " '_i38': \"x = 'abcde'   \\ny = 'abcde'\\n\\nx is y\",\n",
       " '_38': True,\n",
       " '_i39': \"x = 'abcde' * 2000\\ny = 'abcde' * 2000\\n\\nx is y\",\n",
       " '_39': False,\n",
       " '_i40': \"x = 'ab.cd'\\ny = 'ab.cd'\",\n",
       " '_i41': 'x is y',\n",
       " '_41': False,\n",
       " '_i42': 'sys.intern',\n",
       " '_42': <function sys.intern(string, /)>,\n",
       " '_i43': \"x = sys.intern('ab.cde')\\ny = sys.intern('ab.cde')\",\n",
       " '_i44': 'x is y',\n",
       " '_44': True,\n",
       " '_i45': \"for i in range(5):\\n    print(x)   # print(globals()['x'])\",\n",
       " 'i': 59,\n",
       " '_i46': \"# f-string\\n# str.format\\n# str % ('a', 'b')  -- printf-ish\",\n",
       " '_i47': \"x = 100\\ny = [10, 20, 30]\\nz = {'a':1, 'b':2}\\n\\ns = f'x = {x}, y = {y}, z = {z}'\",\n",
       " 'z': [30, 40, 50, 60],\n",
       " 's': '',\n",
       " '_i48': 'print(s)',\n",
       " '_i49': \"d = {'a':1, 'b':200, 'cdefg': 3, 'hijklmn': 45678}\\n\\nfor key, value in d.items():\\n    print(f'{key}: {value}')\",\n",
       " 'd': {'a': 1, 'b': 2, 'c': 3},\n",
       " 'key': 'hijklmn',\n",
       " 'value': 45678,\n",
       " '_i50': \"\\nfor key, value in d.items():\\n    print(f'{key:8}: {value:8}')\",\n",
       " '_i51': \"\\nfor key, value in d.items():\\n    print(f'{key:8}{value:8}')\",\n",
       " '_i52': \"\\nfor key, value in d.items():\\n    print(f'{key:.<8}{value:*>8}')\",\n",
       " '_i53': \"\\nfor key, value in d.items():\\n    print(f'{key:.>8}{value:*<8}')\",\n",
       " '_i54': \"\\nfor key, value in d.items():\\n    print(f'{key:.>8} {value:*<8}')\",\n",
       " '_i55': \"f = 123456.7890123\\n\\nprint(f'The number is {f}.')\",\n",
       " 'f': 123456.7890123,\n",
       " '_i56': \"print(f'The number is {f:4.2}.')\",\n",
       " '_i57': \"print(f'The number is {f:4.5}.')\",\n",
       " '_i58': \"print(f'The number is {f:6.5}.')\",\n",
       " '_i59': 'x',\n",
       " '_59': 100,\n",
       " '_i60': 'y',\n",
       " '_60': [10, 20, 30],\n",
       " '_i61': 'z',\n",
       " '_61': {'a': 1, 'b': 2},\n",
       " '_i62': \"print(f'x = {x}, y = {y}, z = {z}')\",\n",
       " '_i63': \"# From Python 3.8, we can do this:\\n\\nprint(f'{x=}, {y=}, {z=}')\",\n",
       " '_i64': 'mylist = [10, 20, 30, 40, 50]',\n",
       " 'mylist': [10, 20, 30, 40, 50, 60],\n",
       " '_i65': 'type(mylist)',\n",
       " '_65': list,\n",
       " '_i66': 'mylist.append(60)\\nmylist',\n",
       " '_66': [10, 20, 30, 40, 50, 60],\n",
       " '_i67': \"mylist = []\\nfor i in range(30):\\n    print(f'{i}: len(mylist) = {len(mylist)}, sys.getsizeof(mylist) = {sys.getsizeof(mylist)}')\\n    mylist.append(i)\",\n",
       " '_i68': \"mylist = []\\nfor i in range(60):\\n    print(f'{i}: len(mylist) = {len(mylist)}, sys.getsizeof(mylist) = {sys.getsizeof(mylist)}')\\n    mylist.append(i)\",\n",
       " '_i69': '[1] * 100',\n",
       " '_69': [1,\n",
       "  1,\n",
       "  1,\n",
       "  1,\n",
       "  1,\n",
       "  1,\n",
       "  1,\n",
       "  1,\n",
       "  1,\n",
       "  1,\n",
       "  1,\n",
       "  1,\n",
       "  1,\n",
       "  1,\n",
       "  1,\n",
       "  1,\n",
       "  1,\n",
       "  1,\n",
       "  1,\n",
       "  1,\n",
       "  1,\n",
       "  1,\n",
       "  1,\n",
       "  1,\n",
       "  1,\n",
       "  1,\n",
       "  1,\n",
       "  1,\n",
       "  1,\n",
       "  1,\n",
       "  1,\n",
       "  1,\n",
       "  1,\n",
       "  1,\n",
       "  1,\n",
       "  1,\n",
       "  1,\n",
       "  1,\n",
       "  1,\n",
       "  1,\n",
       "  1,\n",
       "  1,\n",
       "  1,\n",
       "  1,\n",
       "  1,\n",
       "  1,\n",
       "  1,\n",
       "  1,\n",
       "  1,\n",
       "  1,\n",
       "  1,\n",
       "  1,\n",
       "  1,\n",
       "  1,\n",
       "  1,\n",
       "  1,\n",
       "  1,\n",
       "  1,\n",
       "  1,\n",
       "  1,\n",
       "  1,\n",
       "  1,\n",
       "  1,\n",
       "  1,\n",
       "  1,\n",
       "  1,\n",
       "  1,\n",
       "  1,\n",
       "  1,\n",
       "  1,\n",
       "  1,\n",
       "  1,\n",
       "  1,\n",
       "  1,\n",
       "  1,\n",
       "  1,\n",
       "  1,\n",
       "  1,\n",
       "  1,\n",
       "  1,\n",
       "  1,\n",
       "  1,\n",
       "  1,\n",
       "  1,\n",
       "  1,\n",
       "  1,\n",
       "  1,\n",
       "  1,\n",
       "  1,\n",
       "  1,\n",
       "  1,\n",
       "  1,\n",
       "  1,\n",
       "  1,\n",
       "  1,\n",
       "  1,\n",
       "  1,\n",
       "  1,\n",
       "  1,\n",
       "  1],\n",
       " '_i70': '# sequence -- string, list, tuple\\n\\nt = (10, 20, 30, 40, 50)\\ntype(t)',\n",
       " 't': 10,\n",
       " '_70': tuple,\n",
       " '_i71': '# no parens needed!\\nt = 10, 20, 30, 40, 50\\n\\nt',\n",
       " '_71': (10, 20, 30, 40, 50),\n",
       " '_i72': 'type(t)',\n",
       " '_72': tuple,\n",
       " '_i73': 't = ([10, 20, 30],\\n     [100, 200,300, 400, 500])\\n\\nt',\n",
       " '_73': ([10, 20, 30, 40, 50, 60, 70, 80, 90, 91, 92],\n",
       "  [100, 200, 300, 400, 500]),\n",
       " '_i74': \"t[0] = '!'\",\n",
       " '_i75': 't[0].append(40)\\nt',\n",
       " '_75': ([10, 20, 30, 40, 50, 60, 70, 80, 90, 91, 92],\n",
       "  [100, 200, 300, 400, 500]),\n",
       " '_i76': \"p = ('Reuven', 'Lerner', 46)\\np\",\n",
       " 'p': Person(first='Reuven', last='Lerner', shoesize=46),\n",
       " '_76': ('Reuven', 'Lerner', 46),\n",
       " '_i77': 'p[0]',\n",
       " '_77': 'Reuven',\n",
       " '_i78': '[1]',\n",
       " '_78': [1],\n",
       " '_i79': 'p[1]',\n",
       " '_79': 'Lerner',\n",
       " '_i80': 'p[2]',\n",
       " '_80': 46,\n",
       " '_i81': '# named tuples',\n",
       " '_i82': \"from collections import namedtuple\\n\\nPerson = namedtuple('Person', ['first', 'last', 'shoesize'])\",\n",
       " 'namedtuple': <function collections.namedtuple(typename, field_names, *, rename=False, defaults=None, module=None)>,\n",
       " 'Person': __main__.Person,\n",
       " '_i83': 'class Foo:\\n    pass',\n",
       " 'Foo': __main__.Foo,\n",
       " '_i84': 'Foo.__name__',\n",
       " '_84': 'Foo',\n",
       " '_i85': \"Person = namedtuple('Person', ['first', 'last', 'shoesize'])\",\n",
       " '_i86': 'Person.__name__',\n",
       " '_86': 'Person',\n",
       " '_i87': \"Person = namedtuple('Person',\\n                    ['first', 'last', 'shoesize'])\",\n",
       " '_i88': 'Person.__name__',\n",
       " '_88': 'Person',\n",
       " '_i89': \"p = Person('Reuven', 'Lerner', 46)\",\n",
       " '_i90': 'p',\n",
       " '_90': Person(first='Reuven', last='Lerner', shoesize=46),\n",
       " '_i91': 'p[0]',\n",
       " '_91': 'Reuven',\n",
       " '_i92': 'p[1]',\n",
       " '_92': 'Lerner',\n",
       " '_i93': 'p[2]',\n",
       " '_93': 46,\n",
       " '_i94': 'p.first',\n",
       " '_94': 'Reuven',\n",
       " '_i95': 'p.last',\n",
       " '_95': 'Lerner',\n",
       " '_i96': 'p.shoesize',\n",
       " '_96': 46,\n",
       " '_i97': 'type(Person)',\n",
       " '_97': type,\n",
       " '_i98': 'type(Person)',\n",
       " '_98': type,\n",
       " '_i99': \"p1 = Person('first1', 'last1', 1)\\np2 = Person('first2', 'last2', 2)\",\n",
       " 'p1': Person(first='zzzzz', last='last1', shoesize=1),\n",
       " 'p2': Person(first='first2', last='last2', shoesize=2),\n",
       " '_i100': 'p1',\n",
       " '_100': Person(first='first1', last='last1', shoesize=1),\n",
       " '_i101': 'p2',\n",
       " '_101': Person(first='first2', last='last2', shoesize=2),\n",
       " '_i102': 'type(p1)',\n",
       " '_102': __main__.Person,\n",
       " '_i103': 'type(p2)',\n",
       " '_103': __main__.Person,\n",
       " '_i104': 'p1.first',\n",
       " '_104': 'first1',\n",
       " '_i105': \"p1.first = 'asdfafafa'\",\n",
       " '_i106': \"p1._replace(first='zzzzz')\",\n",
       " '_106': Person(first='zzzzz', last='last1', shoesize=1),\n",
       " '_i107': \"p1 = p1._replace(first='zzzzz')\\np1\",\n",
       " '_107': Person(first='zzzzz', last='last1', shoesize=1),\n",
       " '_i108': 't',\n",
       " '_108': ([10, 20, 30, 40, 50, 60, 70, 80, 90, 91, 92],\n",
       "  [100, 200, 300, 400, 500]),\n",
       " '_i109': 't[0].append(50)\\nt',\n",
       " '_109': ([10, 20, 30, 40, 50, 60, 70, 80, 90, 91, 92],\n",
       "  [100, 200, 300, 400, 500]),\n",
       " '_i110': 't[0] += [60, 70, 80]',\n",
       " '_i111': 't',\n",
       " '_111': ([10, 20, 30, 40, 50, 60, 70, 80, 90, 91, 92],\n",
       "  [100, 200, 300, 400, 500]),\n",
       " '_i112': 't[0].extend([90, 91, 92])\\nt',\n",
       " '_112': ([10, 20, 30, 40, 50, 60, 70, 80, 90, 91, 92],\n",
       "  [100, 200, 300, 400, 500]),\n",
       " '_i113': '# tuple with 1 element\\nt = (10,)  \\ntype(t)',\n",
       " '_113': tuple,\n",
       " '_i114': 't = (10)\\ntype(t)',\n",
       " '_114': int,\n",
       " '_i115': \"from collections import namedtuple\\n\\nBook = namedtuple('Book', ['title', 'author', 'price'])\\n\\nb1 = Book('title1', 'author1', 50)\\nb2 = Book('title2', 'author1', 100)\\nb3 = Book('title3', 'author2', 200)\\n\\nall_books = [b1, b2, b3]\\n\\nall_books\",\n",
       " 'Book': __main__.Book,\n",
       " 'b1': Book(title='title1', author='author1', price=50),\n",
       " 'b2': Book(title='title2', author='author1', price=100),\n",
       " 'b3': Book(title='title3', author='author2', price=200),\n",
       " 'all_books': [Book(title='title1', author='author1', price=50),\n",
       "  Book(title='title2', author='author1', price=100),\n",
       "  Book(title='title3', author='author2', price=200)],\n",
       " '_115': [Book(title='title1', author='author1', price=50),\n",
       "  Book(title='title2', author='author1', price=100),\n",
       "  Book(title='title3', author='author2', price=200)],\n",
       " '_i116': \"total = 0\\n\\nwhile True:\\n    s = input('Enter book title: ').strip()\\n    \\n    if not s:    # if s is empty, then exit from the loop\\n        break\\n        \\n    for one_book in all_books:\\n        if one_book.title == s:\\n            print(f'Found {s} by {one_book.author}, price {one_book.price}')\\n            total += one_book.price\\n            break\\n            \\nprint(f'Total is {total}')\",\n",
       " 'total': 50,\n",
       " 'one_book': Book(title='title1', author='author1', price=50),\n",
       " '_i117': \"total = 0\\n\\nwhile True:\\n    s = input('Enter book title: ').strip()\\n    \\n    if not s:    # if s is empty, then exit from the loop\\n        break\\n        \\n    for one_book in all_books:\\n        if one_book.title == s:\\n            print(f'Found {s} by {one_book.author}, price {one_book.price}')\\n            total += one_book.price\\n            break\\n            \\nprint(f'Total is {total}')\",\n",
       " '_i118': \"total = 0\\n\\nwhile True:\\n    s = input('Enter book title: ').strip()\\n    \\n    if not s:    # if s is empty, then exit from the loop\\n        break\\n        \\n    found_book = False\\n    for one_book in all_books:\\n        if one_book.title == s:\\n            print(f'Found {s} by {one_book.author}, price {one_book.price}')\\n            total += one_book.price\\n            found_book = True\\n            break\\n            \\n    if not found_book:\\n        print(f'Did not find {s}')\\n            \\nprint(f'Total is {total}')\",\n",
       " 'found_book': False,\n",
       " '_i119': \"total = 0\\n\\nwhile True:\\n    s = input('Enter book title: ').strip()\\n    \\n    if not s:    # if s is empty, then exit from the loop\\n        break\\n        \\n    for one_book in all_books:\\n        if one_book.title == s:\\n            print(f'Found {s} by {one_book.author}, price {one_book.price}')\\n            total += one_book.price\\n            break\\n            \\n    else:    # got_to_end_of_loop_without_encountering_a_break\\n        print(f'Did not find {s}')\\n            \\nprint(f'Total is {total}')\",\n",
       " '_i120': \"total = 0\\n\\nwhile s = input('Enter book title: ').strip():\\n    \\n    for one_book in all_books:\\n        if one_book.title == s:\\n            print(f'Found {s} by {one_book.author}, price {one_book.price}')\\n            total += one_book.price\\n            break\\n            \\n    else:    # got_to_end_of_loop_without_encountering_a_break\\n        print(f'Did not find {s}')\\n            \\nprint(f'Total is {total}')\",\n",
       " '_i121': 'total = 0\\n\\n# := \"assignment expression\"\\n# \"walrus\"\\n\\nwhile s := input(\\'Enter book title: \\').strip():\\n    \\n    for one_book in all_books:\\n        if one_book.title == s:\\n            print(f\\'Found {s} by {one_book.author}, price {one_book.price}\\')\\n            total += one_book.price\\n            break\\n            \\n    else:    # got_to_end_of_loop_without_encountering_a_break\\n        print(f\\'Did not find {s}\\')\\n            \\nprint(f\\'Total is {total}\\')',\n",
       " '_i122': 'x := 5',\n",
       " '_i123': 'if x := 5:\\n   print(x)',\n",
       " '_i124': \"print(f'{b1=}, {b2=}, {b3=}')\",\n",
       " '_i125': '# unpacking\\nmylist = [10, 20, 30]\\n\\nx,y,z = mylist',\n",
       " '_i126': \"print(f'{x=}, {y=}, {z=}')\",\n",
       " '_i127': 'title, author, price = b1',\n",
       " 'title': 'title1',\n",
       " 'author': 'author1',\n",
       " 'price': 50,\n",
       " '_i128': 'title',\n",
       " '_128': 'title1',\n",
       " '_i129': 'author',\n",
       " '_129': 'author1',\n",
       " '_i130': 'price',\n",
       " '_130': 50,\n",
       " '_i131': 'total = 0\\n\\n# := \"assignment expression\"\\n# \"walrus\"\\n# starting with Python 3.8\\n\\nwhile s := input(\\'Enter book title: \\').strip():\\n    \\n    for title, author, price in all_books:\\n        if title == s:\\n            print(f\\'Found {s} by {author}, price {price}\\')\\n            total += price\\n            break\\n            \\n    else:    # got_to_end_of_loop_without_encountering_a_break\\n        print(f\\'Did not find {s}\\')\\n            \\nprint(f\\'Total is {total}\\')',\n",
       " '_i132': 'mylist = [10, 20, 30, 40, 50, 60]\\n\\nx,y,z = mylist',\n",
       " '_i133': 'x, *y, z = mylist',\n",
       " '_i134': 'x',\n",
       " '_134': 10,\n",
       " '_i135': 'z',\n",
       " '_135': 60,\n",
       " '_i136': 'y',\n",
       " '_136': [20, 30, 40, 50],\n",
       " '_i137': 'x,y,*z = mylist',\n",
       " '_i138': 'z',\n",
       " '_138': [30, 40, 50, 60],\n",
       " '_i139': 'x',\n",
       " '_139': 10,\n",
       " '_i140': 'y',\n",
       " '_140': 20,\n",
       " '_i141': \"d = {'a':1, 'b':2, 'c':3}\",\n",
       " '_i142': '# keys must be immutable -- typically, int, float, or string\\n# values can be anything at all',\n",
       " '_i143': 'globals()'}"
      ]
     },
     "execution_count": 143,
     "metadata": {},
     "output_type": "execute_result"
    }
   ],
   "source": [
    "globals()"
   ]
  },
  {
   "cell_type": "code",
   "execution_count": 144,
   "metadata": {},
   "outputs": [
    {
     "data": {
      "text/plain": [
       "1"
      ]
     },
     "execution_count": 144,
     "metadata": {},
     "output_type": "execute_result"
    }
   ],
   "source": [
    "d['a']"
   ]
  },
  {
   "cell_type": "code",
   "execution_count": 145,
   "metadata": {},
   "outputs": [
    {
     "data": {
      "text/plain": [
       "2"
      ]
     },
     "execution_count": 145,
     "metadata": {},
     "output_type": "execute_result"
    }
   ],
   "source": [
    "d['b']"
   ]
  },
  {
   "cell_type": "code",
   "execution_count": 146,
   "metadata": {},
   "outputs": [
    {
     "data": {
      "text/plain": [
       "3"
      ]
     },
     "execution_count": 146,
     "metadata": {},
     "output_type": "execute_result"
    }
   ],
   "source": [
    "d['c']"
   ]
  },
  {
   "cell_type": "code",
   "execution_count": 147,
   "metadata": {},
   "outputs": [
    {
     "data": {
      "text/plain": [
       "2"
      ]
     },
     "execution_count": 147,
     "metadata": {},
     "output_type": "execute_result"
    }
   ],
   "source": [
    "k = 'b'\n",
    "d[k]"
   ]
  },
  {
   "cell_type": "code",
   "execution_count": 148,
   "metadata": {},
   "outputs": [
    {
     "data": {
      "text/plain": [
       "True"
      ]
     },
     "execution_count": 148,
     "metadata": {},
     "output_type": "execute_result"
    }
   ],
   "source": [
    "'b' in d"
   ]
  },
  {
   "cell_type": "code",
   "execution_count": 149,
   "metadata": {},
   "outputs": [
    {
     "data": {
      "text/plain": [
       "False"
      ]
     },
     "execution_count": 149,
     "metadata": {},
     "output_type": "execute_result"
    }
   ],
   "source": [
    "3 in d"
   ]
  },
  {
   "cell_type": "code",
   "execution_count": 151,
   "metadata": {},
   "outputs": [
    {
     "name": "stdout",
     "output_type": "stream",
     "text": [
      "2\n"
     ]
    }
   ],
   "source": [
    "k = 'b'\n",
    "if k in d:\n",
    "    print(d[k])\n",
    "else:\n",
    "    print(f'{k} is not a key in d')"
   ]
  },
  {
   "cell_type": "code",
   "execution_count": 152,
   "metadata": {},
   "outputs": [
    {
     "name": "stdout",
     "output_type": "stream",
     "text": [
      "v is not a key in d\n"
     ]
    }
   ],
   "source": [
    "k = 'v'\n",
    "if k in d:\n",
    "    print(d[k])\n",
    "else:\n",
    "    print(f'{k} is not a key in d')"
   ]
  },
  {
   "cell_type": "code",
   "execution_count": null,
   "metadata": {},
   "outputs": [],
   "source": [
    "d.get('b')   # if 'b' in d, we get d['b']"
   ]
  },
  {
   "cell_type": "code",
   "execution_count": 154,
   "metadata": {},
   "outputs": [],
   "source": [
    "d.get('v')   # if 'b' in d, we get d['b']... otherwise None"
   ]
  },
  {
   "cell_type": "code",
   "execution_count": 155,
   "metadata": {},
   "outputs": [
    {
     "name": "stdout",
     "output_type": "stream",
     "text": [
      "None\n"
     ]
    }
   ],
   "source": [
    "print(d.get('v'))"
   ]
  },
  {
   "cell_type": "code",
   "execution_count": 156,
   "metadata": {},
   "outputs": [
    {
     "data": {
      "text/plain": [
       "'No such key in d'"
      ]
     },
     "execution_count": 156,
     "metadata": {},
     "output_type": "execute_result"
    }
   ],
   "source": [
    "d.get('v', 'No such key in d')"
   ]
  },
  {
   "cell_type": "markdown",
   "metadata": {},
   "source": [
    "# Exercise: Travel \n",
    "\n",
    "1. Start with an empty dictionary, `all_places`.\n",
    "2. Ask the user, repeatedly, to give us a city + country in the form `city, country`\n",
    "3. If we got an empty string, we stop asking.\n",
    "4. If we got a string without `,`, scold the user and try again.\n",
    "5. Otherwise, take the city and country, and add to the dict:\n",
    "    - The countries will be keys (as string)\n",
    "    - The cities will be in a list.\n",
    "6. At the end, print all countries, and then all cities within those countries.\n",
    "\n",
    "Example:\n",
    "\n",
    "    Where have you gone: New York, USA\n",
    "    Where have you gone: Chicago, USA\n",
    "    Where have you gone: Beijing, China\n",
    "    Where have you gone: Shanghai, China\n",
    "    Where have you gone: [ENTER]\n",
    "    \n",
    "Our data structure:\n",
    "\n",
    "    {'USA': ['New York', 'Chicago'], 'China': ['Beijing', 'Shanghai'}    \n",
    "    \n",
    "USA\n",
    "    New York\n",
    "    Chicago\n",
    "China\n",
    "    Beijing\n",
    "    Shanghai\n",
    "    "
   ]
  },
  {
   "cell_type": "code",
   "execution_count": 159,
   "metadata": {},
   "outputs": [
    {
     "name": "stdout",
     "output_type": "stream",
     "text": [
      "Enter place: New York, USA\n",
      "Enter place: New York, USA\n",
      "We already got New York!\n",
      "Enter place: Chicago, USA\n",
      "Enter place: \n",
      "USA\n",
      "\tNew York\n",
      "\tChicago\n"
     ]
    }
   ],
   "source": [
    "all_places = {}\n",
    "\n",
    "while s := input('Enter place: ').strip():\n",
    "\n",
    "    if ',' not in s:\n",
    "        print(f'Enter \"city, country\"')\n",
    "        continue\n",
    "        \n",
    "    city, country = s.split(',')\n",
    "    city = city.strip()\n",
    "    country = country.strip()\n",
    "    \n",
    "#     if country not in all_places:\n",
    "#         all_places[country.strip()] = []\n",
    "        \n",
    "    all_places.setdefault(country, [])\n",
    "    \n",
    "    if city in all_places[country]:\n",
    "        print(f'We already got {city}!')\n",
    "        continue\n",
    "        \n",
    "    all_places[country].append(city)\n",
    "    \n",
    "for country, all_cities in all_places.items():\n",
    "    print(country)\n",
    "    \n",
    "    for one_city in all_cities:\n",
    "        print(f'\\t{one_city}')"
   ]
  },
  {
   "cell_type": "code",
   "execution_count": 158,
   "metadata": {},
   "outputs": [
    {
     "data": {
      "text/plain": [
       "{'USA': ['Chicago', 'New York'], 'China': ['Beijing', 'Shanghai']}"
      ]
     },
     "execution_count": 158,
     "metadata": {},
     "output_type": "execute_result"
    }
   ],
   "source": [
    "all_places"
   ]
  },
  {
   "cell_type": "code",
   "execution_count": null,
   "metadata": {},
   "outputs": [],
   "source": []
  }
 ],
 "metadata": {
  "kernelspec": {
   "display_name": "Python 3",
   "language": "python",
   "name": "python3"
  },
  "language_info": {
   "codemirror_mode": {
    "name": "ipython",
    "version": 3
   },
   "file_extension": ".py",
   "mimetype": "text/x-python",
   "name": "python",
   "nbconvert_exporter": "python",
   "pygments_lexer": "ipython3",
   "version": "3.9.1"
  }
 },
 "nbformat": 4,
 "nbformat_minor": 4
}
